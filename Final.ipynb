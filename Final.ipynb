{
 "cells": [
  {
   "cell_type": "markdown",
   "id": "fa9c827d",
   "metadata": {},
   "source": [
    "# Feature Engineering & Prediction"
   ]
  },
  {
   "cell_type": "markdown",
   "id": "e95041d6",
   "metadata": {},
   "source": [
    "## 0. Setup & Data Import"
   ]
  },
  {
   "cell_type": "code",
   "execution_count": 1,
   "id": "35a201fd",
   "metadata": {},
   "outputs": [],
   "source": [
    "# import all the necessary libraries here\n",
    "import pandas as pd\n",
    "import matplotlib.pyplot as plt\n",
    "import numpy as np\n",
    "import seaborn as sns\n",
    "\n",
    "from sklearn.model_selection import train_test_split\n",
    "from sklearn.ensemble import RandomForestClassifier\n",
    "from sklearn.metrics import accuracy_score\n"
   ]
  },
  {
   "cell_type": "code",
   "execution_count": 40,
   "id": "da3c35dd",
   "metadata": {},
   "outputs": [],
   "source": [
    "# load the train and test data\n",
    "# !! use a relative path so that we don't need to change it each time we run on a different computer\n",
    "\n",
    "# load the training data\n",
    "train_path = '../data/train.csv'\n",
    "train_data = pd.read_csv(train_path)\n",
    "\n",
    "# load the testing data\n",
    "test_path = '../data/test-full.csv'\n",
    "test_data = pd.read_csv(test_path)"
   ]
  },
  {
   "cell_type": "code",
   "execution_count": 41,
   "id": "9bb4a5df",
   "metadata": {},
   "outputs": [
    {
     "name": "stdout",
     "output_type": "stream",
     "text": [
      "(15120, 56)\n",
      "(581012, 55)\n"
     ]
    }
   ],
   "source": [
    "# quickly visualise the datasets\n",
    "print(train_data.shape)\n",
    "print(test_data.shape)\n"
   ]
  },
  {
   "cell_type": "code",
   "execution_count": 42,
   "id": "333f10ff",
   "metadata": {},
   "outputs": [
    {
     "data": {
      "text/html": [
       "<div>\n",
       "<style scoped>\n",
       "    .dataframe tbody tr th:only-of-type {\n",
       "        vertical-align: middle;\n",
       "    }\n",
       "\n",
       "    .dataframe tbody tr th {\n",
       "        vertical-align: top;\n",
       "    }\n",
       "\n",
       "    .dataframe thead th {\n",
       "        text-align: right;\n",
       "    }\n",
       "</style>\n",
       "<table border=\"1\" class=\"dataframe\">\n",
       "  <thead>\n",
       "    <tr style=\"text-align: right;\">\n",
       "      <th></th>\n",
       "      <th>Id</th>\n",
       "      <th>Elevation</th>\n",
       "      <th>Aspect</th>\n",
       "      <th>Slope</th>\n",
       "      <th>Horizontal_Distance_To_Hydrology</th>\n",
       "      <th>Vertical_Distance_To_Hydrology</th>\n",
       "      <th>Horizontal_Distance_To_Roadways</th>\n",
       "      <th>Hillshade_9am</th>\n",
       "      <th>Hillshade_Noon</th>\n",
       "      <th>Hillshade_3pm</th>\n",
       "      <th>...</th>\n",
       "      <th>Soil_Type32</th>\n",
       "      <th>Soil_Type33</th>\n",
       "      <th>Soil_Type34</th>\n",
       "      <th>Soil_Type35</th>\n",
       "      <th>Soil_Type36</th>\n",
       "      <th>Soil_Type37</th>\n",
       "      <th>Soil_Type38</th>\n",
       "      <th>Soil_Type39</th>\n",
       "      <th>Soil_Type40</th>\n",
       "      <th>Cover_Type</th>\n",
       "    </tr>\n",
       "  </thead>\n",
       "  <tbody>\n",
       "    <tr>\n",
       "      <th>0</th>\n",
       "      <td>242642</td>\n",
       "      <td>2881</td>\n",
       "      <td>130</td>\n",
       "      <td>22</td>\n",
       "      <td>210</td>\n",
       "      <td>54</td>\n",
       "      <td>1020</td>\n",
       "      <td>250</td>\n",
       "      <td>221</td>\n",
       "      <td>88</td>\n",
       "      <td>...</td>\n",
       "      <td>0</td>\n",
       "      <td>0</td>\n",
       "      <td>0</td>\n",
       "      <td>0</td>\n",
       "      <td>0</td>\n",
       "      <td>0</td>\n",
       "      <td>0</td>\n",
       "      <td>0</td>\n",
       "      <td>0</td>\n",
       "      <td>1</td>\n",
       "    </tr>\n",
       "    <tr>\n",
       "      <th>1</th>\n",
       "      <td>309891</td>\n",
       "      <td>3005</td>\n",
       "      <td>351</td>\n",
       "      <td>14</td>\n",
       "      <td>242</td>\n",
       "      <td>-16</td>\n",
       "      <td>1371</td>\n",
       "      <td>194</td>\n",
       "      <td>215</td>\n",
       "      <td>159</td>\n",
       "      <td>...</td>\n",
       "      <td>0</td>\n",
       "      <td>0</td>\n",
       "      <td>0</td>\n",
       "      <td>0</td>\n",
       "      <td>0</td>\n",
       "      <td>0</td>\n",
       "      <td>0</td>\n",
       "      <td>0</td>\n",
       "      <td>0</td>\n",
       "      <td>1</td>\n",
       "    </tr>\n",
       "    <tr>\n",
       "      <th>2</th>\n",
       "      <td>287847</td>\n",
       "      <td>3226</td>\n",
       "      <td>63</td>\n",
       "      <td>14</td>\n",
       "      <td>618</td>\n",
       "      <td>2</td>\n",
       "      <td>1092</td>\n",
       "      <td>232</td>\n",
       "      <td>210</td>\n",
       "      <td>107</td>\n",
       "      <td>...</td>\n",
       "      <td>0</td>\n",
       "      <td>0</td>\n",
       "      <td>0</td>\n",
       "      <td>0</td>\n",
       "      <td>0</td>\n",
       "      <td>0</td>\n",
       "      <td>0</td>\n",
       "      <td>0</td>\n",
       "      <td>0</td>\n",
       "      <td>1</td>\n",
       "    </tr>\n",
       "    <tr>\n",
       "      <th>3</th>\n",
       "      <td>516307</td>\n",
       "      <td>3298</td>\n",
       "      <td>317</td>\n",
       "      <td>8</td>\n",
       "      <td>661</td>\n",
       "      <td>60</td>\n",
       "      <td>752</td>\n",
       "      <td>198</td>\n",
       "      <td>233</td>\n",
       "      <td>174</td>\n",
       "      <td>...</td>\n",
       "      <td>0</td>\n",
       "      <td>0</td>\n",
       "      <td>0</td>\n",
       "      <td>0</td>\n",
       "      <td>0</td>\n",
       "      <td>0</td>\n",
       "      <td>0</td>\n",
       "      <td>0</td>\n",
       "      <td>0</td>\n",
       "      <td>1</td>\n",
       "    </tr>\n",
       "    <tr>\n",
       "      <th>4</th>\n",
       "      <td>124860</td>\n",
       "      <td>3080</td>\n",
       "      <td>35</td>\n",
       "      <td>6</td>\n",
       "      <td>175</td>\n",
       "      <td>26</td>\n",
       "      <td>3705</td>\n",
       "      <td>219</td>\n",
       "      <td>227</td>\n",
       "      <td>144</td>\n",
       "      <td>...</td>\n",
       "      <td>0</td>\n",
       "      <td>0</td>\n",
       "      <td>0</td>\n",
       "      <td>0</td>\n",
       "      <td>0</td>\n",
       "      <td>0</td>\n",
       "      <td>0</td>\n",
       "      <td>0</td>\n",
       "      <td>0</td>\n",
       "      <td>1</td>\n",
       "    </tr>\n",
       "  </tbody>\n",
       "</table>\n",
       "<p>5 rows × 56 columns</p>\n",
       "</div>"
      ],
      "text/plain": [
       "       Id  Elevation  Aspect  Slope  Horizontal_Distance_To_Hydrology  \\\n",
       "0  242642       2881     130     22                               210   \n",
       "1  309891       3005     351     14                               242   \n",
       "2  287847       3226      63     14                               618   \n",
       "3  516307       3298     317      8                               661   \n",
       "4  124860       3080      35      6                               175   \n",
       "\n",
       "   Vertical_Distance_To_Hydrology  Horizontal_Distance_To_Roadways  \\\n",
       "0                              54                             1020   \n",
       "1                             -16                             1371   \n",
       "2                               2                             1092   \n",
       "3                              60                              752   \n",
       "4                              26                             3705   \n",
       "\n",
       "   Hillshade_9am  Hillshade_Noon  Hillshade_3pm  ...  Soil_Type32  \\\n",
       "0            250             221             88  ...            0   \n",
       "1            194             215            159  ...            0   \n",
       "2            232             210            107  ...            0   \n",
       "3            198             233            174  ...            0   \n",
       "4            219             227            144  ...            0   \n",
       "\n",
       "   Soil_Type33  Soil_Type34  Soil_Type35  Soil_Type36  Soil_Type37  \\\n",
       "0            0            0            0            0            0   \n",
       "1            0            0            0            0            0   \n",
       "2            0            0            0            0            0   \n",
       "3            0            0            0            0            0   \n",
       "4            0            0            0            0            0   \n",
       "\n",
       "   Soil_Type38  Soil_Type39  Soil_Type40  Cover_Type  \n",
       "0            0            0            0           1  \n",
       "1            0            0            0           1  \n",
       "2            0            0            0           1  \n",
       "3            0            0            0           1  \n",
       "4            0            0            0           1  \n",
       "\n",
       "[5 rows x 56 columns]"
      ]
     },
     "execution_count": 42,
     "metadata": {},
     "output_type": "execute_result"
    }
   ],
   "source": [
    "train_data.head()"
   ]
  },
  {
   "cell_type": "code",
   "execution_count": 43,
   "id": "f044f470",
   "metadata": {},
   "outputs": [
    {
     "data": {
      "text/html": [
       "<div>\n",
       "<style scoped>\n",
       "    .dataframe tbody tr th:only-of-type {\n",
       "        vertical-align: middle;\n",
       "    }\n",
       "\n",
       "    .dataframe tbody tr th {\n",
       "        vertical-align: top;\n",
       "    }\n",
       "\n",
       "    .dataframe thead th {\n",
       "        text-align: right;\n",
       "    }\n",
       "</style>\n",
       "<table border=\"1\" class=\"dataframe\">\n",
       "  <thead>\n",
       "    <tr style=\"text-align: right;\">\n",
       "      <th></th>\n",
       "      <th>Id</th>\n",
       "      <th>Elevation</th>\n",
       "      <th>Aspect</th>\n",
       "      <th>Slope</th>\n",
       "      <th>Horizontal_Distance_To_Hydrology</th>\n",
       "      <th>Vertical_Distance_To_Hydrology</th>\n",
       "      <th>Horizontal_Distance_To_Roadways</th>\n",
       "      <th>Hillshade_9am</th>\n",
       "      <th>Hillshade_Noon</th>\n",
       "      <th>Hillshade_3pm</th>\n",
       "      <th>...</th>\n",
       "      <th>Soil_Type31</th>\n",
       "      <th>Soil_Type32</th>\n",
       "      <th>Soil_Type33</th>\n",
       "      <th>Soil_Type34</th>\n",
       "      <th>Soil_Type35</th>\n",
       "      <th>Soil_Type36</th>\n",
       "      <th>Soil_Type37</th>\n",
       "      <th>Soil_Type38</th>\n",
       "      <th>Soil_Type39</th>\n",
       "      <th>Soil_Type40</th>\n",
       "    </tr>\n",
       "  </thead>\n",
       "  <tbody>\n",
       "    <tr>\n",
       "      <th>0</th>\n",
       "      <td>1</td>\n",
       "      <td>2596</td>\n",
       "      <td>51</td>\n",
       "      <td>3</td>\n",
       "      <td>258</td>\n",
       "      <td>0</td>\n",
       "      <td>510</td>\n",
       "      <td>221</td>\n",
       "      <td>232</td>\n",
       "      <td>148</td>\n",
       "      <td>...</td>\n",
       "      <td>0</td>\n",
       "      <td>0</td>\n",
       "      <td>0</td>\n",
       "      <td>0</td>\n",
       "      <td>0</td>\n",
       "      <td>0</td>\n",
       "      <td>0</td>\n",
       "      <td>0</td>\n",
       "      <td>0</td>\n",
       "      <td>0</td>\n",
       "    </tr>\n",
       "    <tr>\n",
       "      <th>1</th>\n",
       "      <td>2</td>\n",
       "      <td>2590</td>\n",
       "      <td>56</td>\n",
       "      <td>2</td>\n",
       "      <td>212</td>\n",
       "      <td>-6</td>\n",
       "      <td>390</td>\n",
       "      <td>220</td>\n",
       "      <td>235</td>\n",
       "      <td>151</td>\n",
       "      <td>...</td>\n",
       "      <td>0</td>\n",
       "      <td>0</td>\n",
       "      <td>0</td>\n",
       "      <td>0</td>\n",
       "      <td>0</td>\n",
       "      <td>0</td>\n",
       "      <td>0</td>\n",
       "      <td>0</td>\n",
       "      <td>0</td>\n",
       "      <td>0</td>\n",
       "    </tr>\n",
       "    <tr>\n",
       "      <th>2</th>\n",
       "      <td>3</td>\n",
       "      <td>2804</td>\n",
       "      <td>139</td>\n",
       "      <td>9</td>\n",
       "      <td>268</td>\n",
       "      <td>65</td>\n",
       "      <td>3180</td>\n",
       "      <td>234</td>\n",
       "      <td>238</td>\n",
       "      <td>135</td>\n",
       "      <td>...</td>\n",
       "      <td>0</td>\n",
       "      <td>0</td>\n",
       "      <td>0</td>\n",
       "      <td>0</td>\n",
       "      <td>0</td>\n",
       "      <td>0</td>\n",
       "      <td>0</td>\n",
       "      <td>0</td>\n",
       "      <td>0</td>\n",
       "      <td>0</td>\n",
       "    </tr>\n",
       "    <tr>\n",
       "      <th>3</th>\n",
       "      <td>4</td>\n",
       "      <td>2785</td>\n",
       "      <td>155</td>\n",
       "      <td>18</td>\n",
       "      <td>242</td>\n",
       "      <td>118</td>\n",
       "      <td>3090</td>\n",
       "      <td>238</td>\n",
       "      <td>238</td>\n",
       "      <td>122</td>\n",
       "      <td>...</td>\n",
       "      <td>0</td>\n",
       "      <td>0</td>\n",
       "      <td>0</td>\n",
       "      <td>0</td>\n",
       "      <td>0</td>\n",
       "      <td>0</td>\n",
       "      <td>0</td>\n",
       "      <td>0</td>\n",
       "      <td>0</td>\n",
       "      <td>0</td>\n",
       "    </tr>\n",
       "    <tr>\n",
       "      <th>4</th>\n",
       "      <td>5</td>\n",
       "      <td>2595</td>\n",
       "      <td>45</td>\n",
       "      <td>2</td>\n",
       "      <td>153</td>\n",
       "      <td>-1</td>\n",
       "      <td>391</td>\n",
       "      <td>220</td>\n",
       "      <td>234</td>\n",
       "      <td>150</td>\n",
       "      <td>...</td>\n",
       "      <td>0</td>\n",
       "      <td>0</td>\n",
       "      <td>0</td>\n",
       "      <td>0</td>\n",
       "      <td>0</td>\n",
       "      <td>0</td>\n",
       "      <td>0</td>\n",
       "      <td>0</td>\n",
       "      <td>0</td>\n",
       "      <td>0</td>\n",
       "    </tr>\n",
       "  </tbody>\n",
       "</table>\n",
       "<p>5 rows × 55 columns</p>\n",
       "</div>"
      ],
      "text/plain": [
       "   Id  Elevation  Aspect  Slope  Horizontal_Distance_To_Hydrology  \\\n",
       "0   1       2596      51      3                               258   \n",
       "1   2       2590      56      2                               212   \n",
       "2   3       2804     139      9                               268   \n",
       "3   4       2785     155     18                               242   \n",
       "4   5       2595      45      2                               153   \n",
       "\n",
       "   Vertical_Distance_To_Hydrology  Horizontal_Distance_To_Roadways  \\\n",
       "0                               0                              510   \n",
       "1                              -6                              390   \n",
       "2                              65                             3180   \n",
       "3                             118                             3090   \n",
       "4                              -1                              391   \n",
       "\n",
       "   Hillshade_9am  Hillshade_Noon  Hillshade_3pm  ...  Soil_Type31  \\\n",
       "0            221             232            148  ...            0   \n",
       "1            220             235            151  ...            0   \n",
       "2            234             238            135  ...            0   \n",
       "3            238             238            122  ...            0   \n",
       "4            220             234            150  ...            0   \n",
       "\n",
       "   Soil_Type32  Soil_Type33  Soil_Type34  Soil_Type35  Soil_Type36  \\\n",
       "0            0            0            0            0            0   \n",
       "1            0            0            0            0            0   \n",
       "2            0            0            0            0            0   \n",
       "3            0            0            0            0            0   \n",
       "4            0            0            0            0            0   \n",
       "\n",
       "   Soil_Type37  Soil_Type38  Soil_Type39  Soil_Type40  \n",
       "0            0            0            0            0  \n",
       "1            0            0            0            0  \n",
       "2            0            0            0            0  \n",
       "3            0            0            0            0  \n",
       "4            0            0            0            0  \n",
       "\n",
       "[5 rows x 55 columns]"
      ]
     },
     "execution_count": 43,
     "metadata": {},
     "output_type": "execute_result"
    }
   ],
   "source": [
    "test_data.head()"
   ]
  },
  {
   "cell_type": "markdown",
   "id": "0e237e56",
   "metadata": {},
   "source": [
    "## 1.1. Feature Engineering"
   ]
  },
  {
   "cell_type": "markdown",
   "id": "b783324e",
   "metadata": {},
   "source": [
    "implemented so far (!!keep adding if you do stuff)\n",
    "\n",
    "**Feature engineering**\n",
    "- Adding ELU data\n",
    "- Removing Outliers\n",
    "- Soil Types\n",
    "- Climate Zones\n",
    "- Linear Distance\n",
    "- Euclidian Distance\n",
    "- Other\n",
    "\n",
    "\n",
    "**Feature Selection**\n",
    "- PCA\n",
    "- 4 different classifier rankings\n",
    "- Correlation rankings\n"
   ]
  },
  {
   "cell_type": "markdown",
   "id": "d872e63a",
   "metadata": {},
   "source": [
    "### Removing Outliers"
   ]
  },
  {
   "cell_type": "code",
   "execution_count": 6,
   "id": "3515aa3c",
   "metadata": {},
   "outputs": [
    {
     "name": "stdout",
     "output_type": "stream",
     "text": [
      "Total number of outliers:  152\n",
      "Total number of outliers by cover type: \n"
     ]
    },
    {
     "data": {
      "text/plain": [
       "Cover_Type\n",
       "5    69\n",
       "1    34\n",
       "2    33\n",
       "7     8\n",
       "6     1\n",
       "Name: count, dtype: int64"
      ]
     },
     "execution_count": 6,
     "metadata": {},
     "output_type": "execute_result"
    }
   ],
   "source": [
    "# Find the outliers\n",
    "\n",
    "from numpy import percentile\n",
    "import itertools\n",
    "def findCutOff(feature):\n",
    "    #print(feature.index[feature>20])\n",
    "    q25, q75 = percentile(feature, 25), percentile(feature, 75)\n",
    "    iqr = q75 - q25\n",
    "    # calculate the outlier cutoff\n",
    "    cut_off = iqr * 3\n",
    "    lower, upper = q25 - cut_off, q75 + cut_off\n",
    "    #return lower, upper\n",
    "    return feature.index[(feature<lower)|(feature>upper)].tolist()\n",
    "\n",
    "\n",
    "all_outliers=[]\n",
    "\n",
    "#outliers\n",
    "slope= train_data.groupby('Cover_Type')['Slope'].agg(findCutOff)\n",
    "merged_slope = list(itertools.chain.from_iterable(slope))\n",
    "all_outliers.append(merged_slope)\n",
    "\n",
    "#Vertical_Distance_To_Hydrology\n",
    "vh=train_data.groupby('Cover_Type')['Vertical_Distance_To_Hydrology'].agg(findCutOff)\n",
    "merged_vh = list(itertools.chain.from_iterable(vh))\n",
    "all_outliers.append(merged_vh)\n",
    "\n",
    "#Horizontal_Distance_To_Hydrology\n",
    "hh=(train_data.groupby('Cover_Type')['Horizontal_Distance_To_Hydrology'].agg(findCutOff))\n",
    "merged_hh = list(itertools.chain.from_iterable(hh))\n",
    "all_outliers.append(merged_hh)\n",
    "\n",
    "#Horizontal_Distance_To_Roadways\n",
    "hr=(train_data.groupby('Cover_Type')['Horizontal_Distance_To_Roadways'].agg(findCutOff))\n",
    "merged_hr = list(itertools.chain.from_iterable(hr))\n",
    "all_outliers.append(merged_hr)\n",
    "\n",
    "#Horizontal_Distance_To_Fire_Points\n",
    "hf=train_data.groupby('Cover_Type')['Horizontal_Distance_To_Fire_Points'].agg(findCutOff)\n",
    "merged_hf = list(itertools.chain.from_iterable(hf))\n",
    "all_outliers.append(merged_hf)\n",
    "\n",
    "#Hillshade_9am\n",
    "h9=(train_data.groupby('Cover_Type')['Hillshade_9am'].agg(findCutOff))\n",
    "merged_h9 = list(itertools.chain.from_iterable(h9))\n",
    "all_outliers.append(merged_h9)\n",
    "\n",
    "#Hillshade_Noon\n",
    "hn=(train_data.groupby('Cover_Type')['Hillshade_Noon'].agg(findCutOff))\n",
    "merged_hn = list(itertools.chain.from_iterable(hn))\n",
    "all_outliers.append(merged_hn)\n",
    "\n",
    "#Hillshade_Noon\n",
    "h3=(train_data.groupby('Cover_Type')['Hillshade_3pm'].agg(findCutOff))\n",
    "merged_h3 = list(itertools.chain.from_iterable(h3))\n",
    "all_outliers.append(merged_h3)\n",
    "all_outliers = list(itertools.chain.from_iterable(all_outliers))\n",
    "print(\"Total number of outliers: \",len(all_outliers))\n",
    "print(\"Total number of outliers by cover type: \")\n",
    "unique_index=np.unique(all_outliers)\n",
    "\n",
    "train_data.loc[unique_index,:].Cover_Type.value_counts()"
   ]
  },
  {
   "cell_type": "code",
   "execution_count": 7,
   "id": "74101aac",
   "metadata": {},
   "outputs": [],
   "source": [
    "# remove the outliers\n",
    "train_data.drop(unique_index,axis='rows',inplace=True)\n",
    "test_data.drop(unique_index,axis='rows',inplace=True)"
   ]
  },
  {
   "cell_type": "markdown",
   "id": "c0569e31",
   "metadata": {},
   "source": [
    "### Adding ELU Codes, Climate Zones, Geologic Zones"
   ]
  },
  {
   "cell_type": "code",
   "execution_count": 44,
   "id": "a9227852",
   "metadata": {},
   "outputs": [],
   "source": [
    "\n",
    "# Define the mapping for soil types to categories based on ELU descriptions\n",
    "def soil_type_to_category(soil_type):\n",
    "    stony_soil_types = {1, 2, 6, 9, 12, 18, 24, 25, 26, 27, 28, 29, 30, 31, 32, 33, 34, 36, 37, 38, 39, 40}\n",
    "    rubbly_soil_types = {3, 4, 5, 10, 11, 13}\n",
    "    \n",
    "    if soil_type in stony_soil_types:\n",
    "        return \"Stony\"\n",
    "    elif soil_type in rubbly_soil_types:\n",
    "        return \"Rubbly\"\n",
    "    else:\n",
    "        return \"Other\"\n",
    "\n",
    "# Define soil type to ELU code mapping function\n",
    "def soil_type_to_elu_code(soil_type):\n",
    "    soil_to_elu_map = {\n",
    "        1: \"2702\", 2: \"2703\", 3: \"2704\", 4: \"2705\", 5: \"2706\",\n",
    "        6: \"2717\", 7: \"3501\", 8: \"3502\", 9: \"4201\", 10: \"4703\",\n",
    "        11: \"4704\", 12: \"4744\", 13: \"4758\", 14: \"5101\", 15: \"5151\",\n",
    "        16: \"6101\", 17: \"6102\", 18: \"6731\", 19: \"7101\", 20: \"7102\",\n",
    "        21: \"7103\", 22: \"7201\", 23: \"7202\", 24: \"7700\", 25: \"7701\",\n",
    "        26: \"7702\", 27: \"7709\", 28: \"7710\", 29: \"7745\", 30: \"7746\",\n",
    "        31: \"7755\", 32: \"7756\", 33: \"7757\", 34: \"7790\", 35: \"8703\",\n",
    "        36: \"8707\", 37: \"8708\", 38: \"8771\", 39: \"8772\", 40: \"8776\"\n",
    "    }\n",
    "    return soil_to_elu_map.get(soil_type, \"0000\")\n",
    "\n",
    "# Mapping for the first digit to climatic zones\n",
    "climatic_zone_map = {\n",
    "    1: 'lower montane dry',\n",
    "    2: 'lower montane',\n",
    "    3: 'montane dry',\n",
    "    4: 'montane',\n",
    "    5: 'montane dry and montane',\n",
    "    6: 'montane and subalpine',\n",
    "    7: 'subalpine',\n",
    "    8: 'alpine'\n",
    "}\n",
    "\n",
    "# Mapping for the second digit to geologic zones\n",
    "geologic_zone_map = {\n",
    "    1: 'alluvium',\n",
    "    2: 'glacial',\n",
    "    3: 'shale',\n",
    "    4: 'sandstone',\n",
    "    5: 'mixed sedimentary',\n",
    "    6: 'unspecified',\n",
    "    7: 'igneous and metamorphic',\n",
    "    8: 'volcanic'\n",
    "}\n",
    "\n",
    "# Identify the soil type columns\n",
    "soil_columns = [f\"Soil_Type{i}\" for i in range(1, 41)]\n",
    "\n",
    "# Function to find the active soil type and return the corresponding category\n",
    "def find_soil_type_and_return_category(row):\n",
    "    for i, col in enumerate(soil_columns, start=1):\n",
    "        if row[col] == 1:\n",
    "            return soil_type_to_category(i)\n",
    "    return \"Other\"\n",
    "\n",
    "# Function to find the active soil type and return the corresponding ELU code\n",
    "def find_soil_type_and_return_elu(row):\n",
    "    for i, col in enumerate(soil_columns, start=1):\n",
    "        if row[col] == 1:\n",
    "            return soil_type_to_elu_code(i)\n",
    "    return \"0000\"\n",
    "\n"
   ]
  },
  {
   "cell_type": "code",
   "execution_count": 45,
   "id": "85253508",
   "metadata": {},
   "outputs": [],
   "source": [
    "# Apply the functions to train\n",
    "train_data['Category'] = train_data.apply(find_soil_type_and_return_category, axis=1)\n",
    "train_data['ELU_Code'] = train_data.apply(find_soil_type_and_return_elu, axis=1)\n",
    "train_data['Climatic_Zone'] = train_data['ELU_Code'].apply(lambda x: climatic_zone_map[int(str(x)[0])])\n",
    "train_data['Geologic_Zone'] = train_data['ELU_Code'].apply(lambda x: geologic_zone_map[int(str(x)[1])])\n",
    "\n",
    "# One-hot encode the 'Category', 'Climatic_Zone', and 'Geologic_Zone'\n",
    "category_dummies = pd.get_dummies(train_data['Category'], prefix='Category')\n",
    "climatic_zone_dummies = pd.get_dummies(train_data['Climatic_Zone'], prefix='Climatic')\n",
    "geologic_zone_dummies = pd.get_dummies(train_data['Geologic_Zone'], prefix='Geologic')\n",
    "\n",
    "# Join the one-hot encoded columns back with the original data\n",
    "train_data = train_data.join([category_dummies, climatic_zone_dummies, geologic_zone_dummies])\n",
    "\n",
    "# Drop the original columns to avoid duplication\n",
    "train_data.drop(['Category', 'Climatic_Zone', 'Geologic_Zone'], axis=1, inplace=True)"
   ]
  },
  {
   "cell_type": "code",
   "execution_count": 46,
   "id": "4c72b394",
   "metadata": {},
   "outputs": [
    {
     "name": "stdout",
     "output_type": "stream",
     "text": [
      "   Id  Elevation  Aspect  Slope  Horizontal_Distance_To_Hydrology  \\\n",
      "0   1       2596      51      3                               258   \n",
      "1   2       2590      56      2                               212   \n",
      "2   3       2804     139      9                               268   \n",
      "3   4       2785     155     18                               242   \n",
      "4   5       2595      45      2                               153   \n",
      "\n",
      "   Vertical_Distance_To_Hydrology  Horizontal_Distance_To_Roadways  \\\n",
      "0                               0                              510   \n",
      "1                              -6                              390   \n",
      "2                              65                             3180   \n",
      "3                             118                             3090   \n",
      "4                              -1                              391   \n",
      "\n",
      "   Hillshade_9am  Hillshade_Noon  Hillshade_3pm  ...  Climatic_lower montane  \\\n",
      "0            221             232            148  ...                   False   \n",
      "1            220             235            151  ...                   False   \n",
      "2            234             238            135  ...                   False   \n",
      "3            238             238            122  ...                   False   \n",
      "4            220             234            150  ...                   False   \n",
      "\n",
      "   Climatic_montane  Climatic_montane and subalpine  Climatic_montane dry  \\\n",
      "0             False                           False                 False   \n",
      "1             False                           False                 False   \n",
      "2              True                           False                 False   \n",
      "3             False                           False                 False   \n",
      "4             False                           False                 False   \n",
      "\n",
      "   Climatic_montane dry and montane  Climatic_subalpine  Geologic_alluvium  \\\n",
      "0                             False                True              False   \n",
      "1                             False                True              False   \n",
      "2                             False               False              False   \n",
      "3                             False                True              False   \n",
      "4                             False                True              False   \n",
      "\n",
      "   Geologic_glacial  Geologic_igneous and metamorphic  \\\n",
      "0             False                              True   \n",
      "1             False                              True   \n",
      "2             False                              True   \n",
      "3             False                              True   \n",
      "4             False                              True   \n",
      "\n",
      "   Geologic_mixed sedimentary  \n",
      "0                       False  \n",
      "1                       False  \n",
      "2                       False  \n",
      "3                       False  \n",
      "4                       False  \n",
      "\n",
      "[5 rows x 70 columns]\n"
     ]
    }
   ],
   "source": [
    "# Apply the functions to test_data\n",
    "test_data['Category'] = test_data.apply(find_soil_type_and_return_category, axis=1)\n",
    "test_data['ELU_Code'] = test_data.apply(find_soil_type_and_return_elu, axis=1)\n",
    "test_data['Climatic_Zone'] = test_data['ELU_Code'].apply(lambda x: climatic_zone_map[int(str(x)[0])])\n",
    "test_data['Geologic_Zone'] = test_data['ELU_Code'].apply(lambda x: geologic_zone_map[int(str(x)[1])])\n",
    "\n",
    "# One-hot encode the 'Category', 'Climatic_Zone', and 'Geologic_Zone'\n",
    "category_dummies = pd.get_dummies(test_data['Category'], prefix='Category')\n",
    "climatic_zone_dummies = pd.get_dummies(test_data['Climatic_Zone'], prefix='Climatic')\n",
    "geologic_zone_dummies = pd.get_dummies(test_data['Geologic_Zone'], prefix='Geologic')\n",
    "\n",
    "# Join the one-hot encoded columns back with the original data\n",
    "test_data = test_data.join([category_dummies, climatic_zone_dummies, geologic_zone_dummies])\n",
    "\n",
    "# Drop the original columns to avoid duplication\n",
    "test_data.drop(['Category', 'Climatic_Zone', 'Geologic_Zone'], axis=1, inplace=True)\n",
    "\n",
    "# Now let's see the first few rows to confirm the changes in test_data\n",
    "print(test_data.head())"
   ]
  },
  {
   "cell_type": "code",
   "execution_count": 47,
   "id": "fd5f023b",
   "metadata": {},
   "outputs": [
    {
     "name": "stdout",
     "output_type": "stream",
     "text": [
      "(15120, 71)\n",
      "(581012, 70)\n"
     ]
    }
   ],
   "source": [
    "print(train_data.shape)\n",
    "print(test_data.shape)"
   ]
  },
  {
   "cell_type": "markdown",
   "id": "dcf5ea67",
   "metadata": {},
   "source": [
    "### Separate last two digits of ELU"
   ]
  },
  {
   "cell_type": "code",
   "execution_count": 48,
   "id": "af469fc4",
   "metadata": {},
   "outputs": [
    {
     "name": "stdout",
     "output_type": "stream",
     "text": [
      "  ELU_Code  ELU3  ELU4\n",
      "0     7746     4     6\n",
      "1     7700     0     0\n",
      "2     7745     4     5\n",
      "3     7202     0     2\n",
      "4     7700     0     0\n"
     ]
    }
   ],
   "source": [
    "# Extract the third digit of the ELU code and create a new column\n",
    "train_data['ELU3'] = train_data['ELU_Code'].apply(lambda x: int(str(x)[2]) if len(str(x)) > 2 else 0)\n",
    "\n",
    "# Extract the fourth digit of the ELU code and create a new column\n",
    "train_data['ELU4'] = train_data['ELU_Code'].apply(lambda x: int(str(x)[3]) if len(str(x)) > 3 else 0)\n",
    "\n",
    "# Display the first few rows to verify the new columns\n",
    "print(train_data[['ELU_Code', 'ELU3', 'ELU4']].head())\n"
   ]
  },
  {
   "cell_type": "code",
   "execution_count": 49,
   "id": "26e0108f",
   "metadata": {},
   "outputs": [
    {
     "name": "stdout",
     "output_type": "stream",
     "text": [
      "  ELU_Code  ELU3  ELU4\n",
      "0     7745     4     5\n",
      "1     7745     4     5\n",
      "2     4744     4     4\n",
      "3     7746     4     6\n",
      "4     7745     4     5\n"
     ]
    }
   ],
   "source": [
    "# Apply the same extraction for the third and fourth digits of the ELU code\n",
    "test_data['ELU3'] = test_data['ELU_Code'].apply(lambda x: int(str(x)[2]) if len(str(x)) > 2 else 0)\n",
    "test_data['ELU4'] = test_data['ELU_Code'].apply(lambda x: int(str(x)[3]) if len(str(x)) > 3 else 0)\n",
    "\n",
    "# Verify the new columns in test_data\n",
    "print(test_data[['ELU_Code', 'ELU3', 'ELU4']].head())"
   ]
  },
  {
   "cell_type": "code",
   "execution_count": 50,
   "id": "88dc4cc2",
   "metadata": {},
   "outputs": [
    {
     "name": "stdout",
     "output_type": "stream",
     "text": [
      "(15120, 73)\n",
      "(581012, 72)\n"
     ]
    }
   ],
   "source": [
    "print(train_data.shape)\n",
    "print(test_data.shape)"
   ]
  },
  {
   "cell_type": "markdown",
   "id": "9674b267",
   "metadata": {},
   "source": [
    "### Linear Distance"
   ]
  },
  {
   "cell_type": "code",
   "execution_count": 51,
   "id": "00f620bd",
   "metadata": {},
   "outputs": [],
   "source": [
    "def linear_dist(X: pd.DataFrame, drop_original: bool = False) -> pd.DataFrame:\n",
    "    \"\"\"\n",
    "    This function calculates linear combinations of distances to hydrology,\n",
    "    fire points, and roadways, including:\n",
    "        - hydrology + fire points\n",
    "        - |hydrology - fire points|\n",
    "        - hydrology + roadways\n",
    "        - |hydrology - roadways|\n",
    "        - fire points + roadways\n",
    "        - |fire points - roadways|\n",
    "        \n",
    "    The 'Id' column is preserved and reattached if present.\n",
    "    \n",
    "    Parameters:\n",
    "    - X: pd.DataFrame - The input DataFrame containing distance columns and optionally an 'Id' column.\n",
    "    - drop_original: bool - Indicates whether to drop the original distance columns after calculating the combinations.\n",
    "    \n",
    "    Returns:\n",
    "    - pd.DataFrame - The DataFrame with added linear combination columns and optionally without the original distance columns.\n",
    "    \"\"\"\n",
    "    X = X.copy()  # Work on a copy of the input DataFrame to avoid changing the original\n",
    "    \n",
    "    # Store the 'Id' column if it exists, then remove it temporarily\n",
    "    if 'Id' in X.columns:\n",
    "        Id_col = X['Id'].copy()\n",
    "        X.drop(columns=['Id'], inplace=True)\n",
    "    else:\n",
    "        Id_col = None\n",
    "\n",
    "    # List of distance columns to combine\n",
    "    cols = [\n",
    "        \"Horizontal_Distance_To_Hydrology\",\n",
    "        \"Horizontal_Distance_To_Fire_Points\",\n",
    "        \"Horizontal_Distance_To_Roadways\",\n",
    "    ]\n",
    "\n",
    "    # Linear Combination of distances\n",
    "    X[\"Hyd_p_Fire\"] = X[cols[0]] + X[cols[1]]\n",
    "    X[\"Hyd_m_Fire\"] = abs(X[cols[0]] - X[cols[1]])\n",
    "    X[\"Hyd_p_Road\"] = X[cols[0]] + X[cols[2]]\n",
    "    X[\"Hyd_m_Road\"] = abs(X[cols[0]] - X[cols[2]])\n",
    "    X[\"Fire_p_Road\"] = X[cols[1]] + X[cols[2]]\n",
    "    X[\"Fire_m_Road\"] = abs(X[cols[1]] - X[cols[2]])\n",
    "\n",
    "    # Drop the original distance columns if specified\n",
    "    if drop_original:\n",
    "        X.drop(columns=cols, inplace=True)\n",
    "\n",
    "    # Reattach the 'Id' column if it was present\n",
    "    if Id_col is not None:\n",
    "        X = pd.concat([Id_col, X], axis=1)\n",
    "\n",
    "    return X\n"
   ]
  },
  {
   "cell_type": "markdown",
   "id": "26e2ae1f",
   "metadata": {},
   "source": [
    "### Euclidian Distance"
   ]
  },
  {
   "cell_type": "code",
   "execution_count": 52,
   "id": "7e909af1",
   "metadata": {},
   "outputs": [
    {
     "name": "stdout",
     "output_type": "stream",
     "text": [
      "Shape of train after adding new features: (15120, 77)\n",
      "Shape of test after adding new features: (581012, 76)\n"
     ]
    }
   ],
   "source": [
    "# Calculate new features based on mean distances\n",
    "# train\n",
    "train_data['Mean_Elevation_Vertical_Distance_Hydrology'] = (train_data['Elevation'] + train_data['Vertical_Distance_To_Hydrology']) / 2\n",
    "train_data['Mean_Distance_Hydrology_Firepoints'] = (train_data['Horizontal_Distance_To_Hydrology'] + train_data['Horizontal_Distance_To_Fire_Points']) / 2\n",
    "train_data['Mean_Distance_Hydrology_Roadways'] = (train_data['Horizontal_Distance_To_Hydrology'] + train_data['Horizontal_Distance_To_Roadways']) / 2\n",
    "train_data['Mean_Distance_Firepoints_Roadways'] = (train_data['Horizontal_Distance_To_Fire_Points'] + train_data['Horizontal_Distance_To_Roadways']) / 2\n",
    "\n",
    "print(f\"Shape of train after adding new features: {train_data.shape}\")\n",
    "\n",
    "# test\n",
    "test_data['Mean_Elevation_Vertical_Distance_Hydrology'] = (test_data['Elevation'] + test_data['Vertical_Distance_To_Hydrology']) / 2\n",
    "test_data['Mean_Distance_Hydrology_Firepoints'] = (test_data['Horizontal_Distance_To_Hydrology'] + test_data['Horizontal_Distance_To_Fire_Points']) / 2\n",
    "test_data['Mean_Distance_Hydrology_Roadways'] = (test_data['Horizontal_Distance_To_Hydrology'] + test_data['Horizontal_Distance_To_Roadways']) / 2\n",
    "test_data['Mean_Distance_Firepoints_Roadways'] = (test_data['Horizontal_Distance_To_Fire_Points'] + test_data['Horizontal_Distance_To_Roadways']) / 2\n",
    "\n",
    "print(f\"Shape of test after adding new features: {test_data.shape}\")\n"
   ]
  },
  {
   "cell_type": "markdown",
   "id": "1917a91e",
   "metadata": {},
   "source": [
    "### Other columns"
   ]
  },
  {
   "cell_type": "code",
   "execution_count": 11,
   "id": "c2f9694f",
   "metadata": {},
   "outputs": [],
   "source": [
    "# engineering new columns from our df\n",
    "def other_FE(X):\n",
    "    \n",
    "    X['Aspect'] = X['Aspect'] % 360\n",
    "    X['Aspect_120'] = (X['Aspect'] + 120) % 360\n",
    "\n",
    "    X['Hydro_Elevation_sum'] = X['Elevation'] + X['Vertical_Distance_To_Hydrology']\n",
    "                                 \n",
    "    X['Hydro_Elevation_diff'] = abs(X['Elevation'] - X['Vertical_Distance_To_Hydrology'])\n",
    "\n",
    "    X['Hydro_Euclidean'] = np.sqrt(X['Horizontal_Distance_To_Hydrology']**2 +\n",
    "                                   X['Vertical_Distance_To_Hydrology']**2)\n",
    "\n",
    "    X['Hydro_Manhattan'] = abs(X['Horizontal_Distance_To_Hydrology'] +\n",
    "                            X['Vertical_Distance_To_Hydrology'])\n",
    "    \n",
    "    X['Hydro_Distance_sum'] = X['Horizontal_Distance_To_Hydrology'] + X['Vertical_Distance_To_Hydrology']\n",
    "                                \n",
    "    X['Hydro_Distance_diff'] = abs(X['Horizontal_Distance_To_Hydrology'] - X['Vertical_Distance_To_Hydrology'])\n",
    "    \n",
    "    X['Hydro_Fire_sum'] = X['Horizontal_Distance_To_Hydrology'] + X['Horizontal_Distance_To_Fire_Points']\n",
    "                            \n",
    "    X['Hydro_Fire_diff'] = abs(X['Horizontal_Distance_To_Hydrology'] + X['Horizontal_Distance_To_Fire_Points'])\n",
    "\n",
    "    X['Hydro_Fire_mean'] = (X['Horizontal_Distance_To_Hydrology'] + X['Horizontal_Distance_To_Fire_Points'])/2\n",
    "                               \n",
    "    X['Hydro_Road_sum'] = X['Horizontal_Distance_To_Hydrology'] + X['Horizontal_Distance_To_Roadways']\n",
    "                            \n",
    "    X['Hydro_Road_diff'] = abs(X['Horizontal_Distance_To_Hydrology'] + X['Horizontal_Distance_To_Roadways'])\n",
    "\n",
    "    X['Hydro_Road_mean'] = (X['Horizontal_Distance_To_Hydrology'] + X['Horizontal_Distance_To_Roadways'])/2\n",
    "    \n",
    "    X['Road_Fire_sum'] = X['Horizontal_Distance_To_Roadways'] + X['Horizontal_Distance_To_Fire_Points']\n",
    "                           \n",
    "    X['Road_Fire_diff'] = abs(X['Horizontal_Distance_To_Roadways'] - X['Horizontal_Distance_To_Fire_Points'])\n",
    "\n",
    "    X['Road_Fire_mean'] = (X['Horizontal_Distance_To_Roadways'] + X['Horizontal_Distance_To_Fire_Points'])/2\n",
    "    \n",
    "    X['Hydro_Road_Fire_mean'] = (X['Horizontal_Distance_To_Hydrology'] + X['Horizontal_Distance_To_Roadways'] + \n",
    "                                  X['Horizontal_Distance_To_Fire_Points'])/3\n",
    "\n",
    "    \n",
    "    return X"
   ]
  },
  {
   "cell_type": "markdown",
   "id": "7f09ed13",
   "metadata": {},
   "source": [
    "### Apply functions"
   ]
  },
  {
   "cell_type": "code",
   "execution_count": 53,
   "id": "8afa066a",
   "metadata": {},
   "outputs": [],
   "source": [
    "# linear distance fct\n",
    "train_data = linear_dist(train_data)\n",
    "test_data = linear_dist(test_data)\n",
    "\n",
    "# other FE\n",
    "train_data = other_FE(train_data)\n",
    "test_data = other_FE(test_data)\n"
   ]
  },
  {
   "cell_type": "code",
   "execution_count": 54,
   "id": "848d1d37",
   "metadata": {
    "scrolled": true
   },
   "outputs": [
    {
     "data": {
      "text/html": [
       "<div>\n",
       "<style scoped>\n",
       "    .dataframe tbody tr th:only-of-type {\n",
       "        vertical-align: middle;\n",
       "    }\n",
       "\n",
       "    .dataframe tbody tr th {\n",
       "        vertical-align: top;\n",
       "    }\n",
       "\n",
       "    .dataframe thead th {\n",
       "        text-align: right;\n",
       "    }\n",
       "</style>\n",
       "<table border=\"1\" class=\"dataframe\">\n",
       "  <thead>\n",
       "    <tr style=\"text-align: right;\">\n",
       "      <th></th>\n",
       "      <th>Id</th>\n",
       "      <th>Elevation</th>\n",
       "      <th>Aspect</th>\n",
       "      <th>Slope</th>\n",
       "      <th>Horizontal_Distance_To_Hydrology</th>\n",
       "      <th>Vertical_Distance_To_Hydrology</th>\n",
       "      <th>Horizontal_Distance_To_Roadways</th>\n",
       "      <th>Hillshade_9am</th>\n",
       "      <th>Hillshade_Noon</th>\n",
       "      <th>Hillshade_3pm</th>\n",
       "      <th>...</th>\n",
       "      <th>Mean_Elevation_Vertical_Distance_Hydrology</th>\n",
       "      <th>Mean_Distance_Hydrology_Firepoints</th>\n",
       "      <th>Mean_Distance_Hydrology_Roadways</th>\n",
       "      <th>Mean_Distance_Firepoints_Roadways</th>\n",
       "      <th>Hyd_p_Fire</th>\n",
       "      <th>Hyd_m_Fire</th>\n",
       "      <th>Hyd_p_Road</th>\n",
       "      <th>Hyd_m_Road</th>\n",
       "      <th>Fire_p_Road</th>\n",
       "      <th>Fire_m_Road</th>\n",
       "    </tr>\n",
       "  </thead>\n",
       "  <tbody>\n",
       "    <tr>\n",
       "      <th>0</th>\n",
       "      <td>242642</td>\n",
       "      <td>2881</td>\n",
       "      <td>130</td>\n",
       "      <td>22</td>\n",
       "      <td>210</td>\n",
       "      <td>54</td>\n",
       "      <td>1020</td>\n",
       "      <td>250</td>\n",
       "      <td>221</td>\n",
       "      <td>88</td>\n",
       "      <td>...</td>\n",
       "      <td>1467.5</td>\n",
       "      <td>276.0</td>\n",
       "      <td>615.0</td>\n",
       "      <td>681.0</td>\n",
       "      <td>552</td>\n",
       "      <td>132</td>\n",
       "      <td>1230</td>\n",
       "      <td>810</td>\n",
       "      <td>1362</td>\n",
       "      <td>678</td>\n",
       "    </tr>\n",
       "    <tr>\n",
       "      <th>1</th>\n",
       "      <td>309891</td>\n",
       "      <td>3005</td>\n",
       "      <td>351</td>\n",
       "      <td>14</td>\n",
       "      <td>242</td>\n",
       "      <td>-16</td>\n",
       "      <td>1371</td>\n",
       "      <td>194</td>\n",
       "      <td>215</td>\n",
       "      <td>159</td>\n",
       "      <td>...</td>\n",
       "      <td>1494.5</td>\n",
       "      <td>542.0</td>\n",
       "      <td>806.5</td>\n",
       "      <td>1106.5</td>\n",
       "      <td>1084</td>\n",
       "      <td>600</td>\n",
       "      <td>1613</td>\n",
       "      <td>1129</td>\n",
       "      <td>2213</td>\n",
       "      <td>529</td>\n",
       "    </tr>\n",
       "    <tr>\n",
       "      <th>2</th>\n",
       "      <td>287847</td>\n",
       "      <td>3226</td>\n",
       "      <td>63</td>\n",
       "      <td>14</td>\n",
       "      <td>618</td>\n",
       "      <td>2</td>\n",
       "      <td>1092</td>\n",
       "      <td>232</td>\n",
       "      <td>210</td>\n",
       "      <td>107</td>\n",
       "      <td>...</td>\n",
       "      <td>1614.0</td>\n",
       "      <td>1318.0</td>\n",
       "      <td>855.0</td>\n",
       "      <td>1555.0</td>\n",
       "      <td>2636</td>\n",
       "      <td>1400</td>\n",
       "      <td>1710</td>\n",
       "      <td>474</td>\n",
       "      <td>3110</td>\n",
       "      <td>926</td>\n",
       "    </tr>\n",
       "    <tr>\n",
       "      <th>3</th>\n",
       "      <td>516307</td>\n",
       "      <td>3298</td>\n",
       "      <td>317</td>\n",
       "      <td>8</td>\n",
       "      <td>661</td>\n",
       "      <td>60</td>\n",
       "      <td>752</td>\n",
       "      <td>198</td>\n",
       "      <td>233</td>\n",
       "      <td>174</td>\n",
       "      <td>...</td>\n",
       "      <td>1679.0</td>\n",
       "      <td>954.5</td>\n",
       "      <td>706.5</td>\n",
       "      <td>1000.0</td>\n",
       "      <td>1909</td>\n",
       "      <td>587</td>\n",
       "      <td>1413</td>\n",
       "      <td>91</td>\n",
       "      <td>2000</td>\n",
       "      <td>496</td>\n",
       "    </tr>\n",
       "    <tr>\n",
       "      <th>4</th>\n",
       "      <td>124860</td>\n",
       "      <td>3080</td>\n",
       "      <td>35</td>\n",
       "      <td>6</td>\n",
       "      <td>175</td>\n",
       "      <td>26</td>\n",
       "      <td>3705</td>\n",
       "      <td>219</td>\n",
       "      <td>227</td>\n",
       "      <td>144</td>\n",
       "      <td>...</td>\n",
       "      <td>1553.0</td>\n",
       "      <td>1424.0</td>\n",
       "      <td>1940.0</td>\n",
       "      <td>3189.0</td>\n",
       "      <td>2848</td>\n",
       "      <td>2498</td>\n",
       "      <td>3880</td>\n",
       "      <td>3530</td>\n",
       "      <td>6378</td>\n",
       "      <td>1032</td>\n",
       "    </tr>\n",
       "  </tbody>\n",
       "</table>\n",
       "<p>5 rows × 83 columns</p>\n",
       "</div>"
      ],
      "text/plain": [
       "       Id  Elevation  Aspect  Slope  Horizontal_Distance_To_Hydrology  \\\n",
       "0  242642       2881     130     22                               210   \n",
       "1  309891       3005     351     14                               242   \n",
       "2  287847       3226      63     14                               618   \n",
       "3  516307       3298     317      8                               661   \n",
       "4  124860       3080      35      6                               175   \n",
       "\n",
       "   Vertical_Distance_To_Hydrology  Horizontal_Distance_To_Roadways  \\\n",
       "0                              54                             1020   \n",
       "1                             -16                             1371   \n",
       "2                               2                             1092   \n",
       "3                              60                              752   \n",
       "4                              26                             3705   \n",
       "\n",
       "   Hillshade_9am  Hillshade_Noon  Hillshade_3pm  ...  \\\n",
       "0            250             221             88  ...   \n",
       "1            194             215            159  ...   \n",
       "2            232             210            107  ...   \n",
       "3            198             233            174  ...   \n",
       "4            219             227            144  ...   \n",
       "\n",
       "   Mean_Elevation_Vertical_Distance_Hydrology  \\\n",
       "0                                      1467.5   \n",
       "1                                      1494.5   \n",
       "2                                      1614.0   \n",
       "3                                      1679.0   \n",
       "4                                      1553.0   \n",
       "\n",
       "   Mean_Distance_Hydrology_Firepoints  Mean_Distance_Hydrology_Roadways  \\\n",
       "0                               276.0                             615.0   \n",
       "1                               542.0                             806.5   \n",
       "2                              1318.0                             855.0   \n",
       "3                               954.5                             706.5   \n",
       "4                              1424.0                            1940.0   \n",
       "\n",
       "   Mean_Distance_Firepoints_Roadways  Hyd_p_Fire  Hyd_m_Fire  Hyd_p_Road  \\\n",
       "0                              681.0         552         132        1230   \n",
       "1                             1106.5        1084         600        1613   \n",
       "2                             1555.0        2636        1400        1710   \n",
       "3                             1000.0        1909         587        1413   \n",
       "4                             3189.0        2848        2498        3880   \n",
       "\n",
       "   Hyd_m_Road  Fire_p_Road  Fire_m_Road  \n",
       "0         810         1362          678  \n",
       "1        1129         2213          529  \n",
       "2         474         3110          926  \n",
       "3          91         2000          496  \n",
       "4        3530         6378         1032  \n",
       "\n",
       "[5 rows x 83 columns]"
      ]
     },
     "execution_count": 54,
     "metadata": {},
     "output_type": "execute_result"
    }
   ],
   "source": [
    "# train data post-feature engineering -> make sure it still contains 'Id'\n",
    "train_data.head()"
   ]
  },
  {
   "cell_type": "code",
   "execution_count": 55,
   "id": "16f4a1c1",
   "metadata": {},
   "outputs": [
    {
     "data": {
      "text/plain": [
       "(15120, 83)"
      ]
     },
     "execution_count": 55,
     "metadata": {},
     "output_type": "execute_result"
    }
   ],
   "source": [
    "train_data.shape"
   ]
  },
  {
   "cell_type": "code",
   "execution_count": 56,
   "id": "d87d54cc",
   "metadata": {},
   "outputs": [
    {
     "data": {
      "text/plain": [
       "(581012, 82)"
      ]
     },
     "execution_count": 56,
     "metadata": {},
     "output_type": "execute_result"
    }
   ],
   "source": [
    "test_data.shape"
   ]
  },
  {
   "cell_type": "markdown",
   "id": "cf580ce4",
   "metadata": {},
   "source": [
    "## 1.2. Feature Selection"
   ]
  },
  {
   "cell_type": "markdown",
   "id": "6a4eb7a6",
   "metadata": {},
   "source": [
    "Now that we have determined how to change our features or add new meaningful features, we select the most important ones to keep for our prediction. There are several options to select our features, including:\n",
    "- PCA\n",
    "- Using classifiers from sklearn.ensemble Library to rank the features by meaningfulness\n",
    "- Removing the ones with lowest correlation to Cover Type\n",
    "\n",
    "These methods lead to slightly rankings, however the most important features accross methods are consistent across methods."
   ]
  },
  {
   "cell_type": "markdown",
   "id": "7fc5c993",
   "metadata": {},
   "source": [
    "### PCA"
   ]
  },
  {
   "cell_type": "code",
   "execution_count": null,
   "id": "760c5918",
   "metadata": {},
   "outputs": [
    {
     "ename": "ValueError",
     "evalue": "Input X contains NaN.\nPCA does not accept missing values encoded as NaN natively. For supervised learning, you might want to consider sklearn.ensemble.HistGradientBoostingClassifier and Regressor which accept missing values encoded as NaNs natively. Alternatively, it is possible to preprocess the data, for instance by using an imputer transformer in a pipeline or drop samples with missing values. See https://scikit-learn.org/stable/modules/impute.html You can find a list of all estimators that handle NaN values at the following page: https://scikit-learn.org/stable/modules/impute.html#estimators-that-handle-nan-values",
     "output_type": "error",
     "traceback": [
      "\u001b[0;31m---------------------------------------------------------------------------\u001b[0m",
      "\u001b[0;31mValueError\u001b[0m                                Traceback (most recent call last)",
      "\u001b[1;32m/Users/elisebarattini/Documents/1_UNIVERSITY/1.3_Masters/DSB/Courses/2_Semester/MLII/project/forest_covers-1/FeatureEng-4.ipynb Cell 38\u001b[0m line \u001b[0;36m9\n\u001b[1;32m      <a href='vscode-notebook-cell:/Users/elisebarattini/Documents/1_UNIVERSITY/1.3_Masters/DSB/Courses/2_Semester/MLII/project/forest_covers-1/FeatureEng-4.ipynb#X52sZmlsZQ%3D%3D?line=6'>7</a>\u001b[0m X_scaled \u001b[39m=\u001b[39m scaler\u001b[39m.\u001b[39mfit_transform(X) \n\u001b[1;32m      <a href='vscode-notebook-cell:/Users/elisebarattini/Documents/1_UNIVERSITY/1.3_Masters/DSB/Courses/2_Semester/MLII/project/forest_covers-1/FeatureEng-4.ipynb#X52sZmlsZQ%3D%3D?line=7'>8</a>\u001b[0m pca \u001b[39m=\u001b[39m PCA(n_components\u001b[39m=\u001b[39m\u001b[39m20\u001b[39m) \n\u001b[0;32m----> <a href='vscode-notebook-cell:/Users/elisebarattini/Documents/1_UNIVERSITY/1.3_Masters/DSB/Courses/2_Semester/MLII/project/forest_covers-1/FeatureEng-4.ipynb#X52sZmlsZQ%3D%3D?line=8'>9</a>\u001b[0m X_pca \u001b[39m=\u001b[39m pca\u001b[39m.\u001b[39;49mfit_transform(X_scaled)\n",
      "File \u001b[0;32m/Library/Frameworks/Python.framework/Versions/3.10/lib/python3.10/site-packages/sklearn/utils/_set_output.py:157\u001b[0m, in \u001b[0;36m_wrap_method_output.<locals>.wrapped\u001b[0;34m(self, X, *args, **kwargs)\u001b[0m\n\u001b[1;32m    155\u001b[0m \u001b[39m@wraps\u001b[39m(f)\n\u001b[1;32m    156\u001b[0m \u001b[39mdef\u001b[39;00m \u001b[39mwrapped\u001b[39m(\u001b[39mself\u001b[39m, X, \u001b[39m*\u001b[39margs, \u001b[39m*\u001b[39m\u001b[39m*\u001b[39mkwargs):\n\u001b[0;32m--> 157\u001b[0m     data_to_wrap \u001b[39m=\u001b[39m f(\u001b[39mself\u001b[39;49m, X, \u001b[39m*\u001b[39;49margs, \u001b[39m*\u001b[39;49m\u001b[39m*\u001b[39;49mkwargs)\n\u001b[1;32m    158\u001b[0m     \u001b[39mif\u001b[39;00m \u001b[39misinstance\u001b[39m(data_to_wrap, \u001b[39mtuple\u001b[39m):\n\u001b[1;32m    159\u001b[0m         \u001b[39m# only wrap the first output for cross decomposition\u001b[39;00m\n\u001b[1;32m    160\u001b[0m         return_tuple \u001b[39m=\u001b[39m (\n\u001b[1;32m    161\u001b[0m             _wrap_data_with_container(method, data_to_wrap[\u001b[39m0\u001b[39m], X, \u001b[39mself\u001b[39m),\n\u001b[1;32m    162\u001b[0m             \u001b[39m*\u001b[39mdata_to_wrap[\u001b[39m1\u001b[39m:],\n\u001b[1;32m    163\u001b[0m         )\n",
      "File \u001b[0;32m/Library/Frameworks/Python.framework/Versions/3.10/lib/python3.10/site-packages/sklearn/base.py:1152\u001b[0m, in \u001b[0;36m_fit_context.<locals>.decorator.<locals>.wrapper\u001b[0;34m(estimator, *args, **kwargs)\u001b[0m\n\u001b[1;32m   1145\u001b[0m     estimator\u001b[39m.\u001b[39m_validate_params()\n\u001b[1;32m   1147\u001b[0m \u001b[39mwith\u001b[39;00m config_context(\n\u001b[1;32m   1148\u001b[0m     skip_parameter_validation\u001b[39m=\u001b[39m(\n\u001b[1;32m   1149\u001b[0m         prefer_skip_nested_validation \u001b[39mor\u001b[39;00m global_skip_validation\n\u001b[1;32m   1150\u001b[0m     )\n\u001b[1;32m   1151\u001b[0m ):\n\u001b[0;32m-> 1152\u001b[0m     \u001b[39mreturn\u001b[39;00m fit_method(estimator, \u001b[39m*\u001b[39;49margs, \u001b[39m*\u001b[39;49m\u001b[39m*\u001b[39;49mkwargs)\n",
      "File \u001b[0;32m/Library/Frameworks/Python.framework/Versions/3.10/lib/python3.10/site-packages/sklearn/decomposition/_pca.py:460\u001b[0m, in \u001b[0;36mPCA.fit_transform\u001b[0;34m(self, X, y)\u001b[0m\n\u001b[1;32m    437\u001b[0m \u001b[39m@_fit_context\u001b[39m(prefer_skip_nested_validation\u001b[39m=\u001b[39m\u001b[39mTrue\u001b[39;00m)\n\u001b[1;32m    438\u001b[0m \u001b[39mdef\u001b[39;00m \u001b[39mfit_transform\u001b[39m(\u001b[39mself\u001b[39m, X, y\u001b[39m=\u001b[39m\u001b[39mNone\u001b[39;00m):\n\u001b[1;32m    439\u001b[0m \u001b[39m    \u001b[39m\u001b[39m\"\"\"Fit the model with X and apply the dimensionality reduction on X.\u001b[39;00m\n\u001b[1;32m    440\u001b[0m \n\u001b[1;32m    441\u001b[0m \u001b[39m    Parameters\u001b[39;00m\n\u001b[0;32m   (...)\u001b[0m\n\u001b[1;32m    458\u001b[0m \u001b[39m    C-ordered array, use 'np.ascontiguousarray'.\u001b[39;00m\n\u001b[1;32m    459\u001b[0m \u001b[39m    \"\"\"\u001b[39;00m\n\u001b[0;32m--> 460\u001b[0m     U, S, Vt \u001b[39m=\u001b[39m \u001b[39mself\u001b[39;49m\u001b[39m.\u001b[39;49m_fit(X)\n\u001b[1;32m    461\u001b[0m     U \u001b[39m=\u001b[39m U[:, : \u001b[39mself\u001b[39m\u001b[39m.\u001b[39mn_components_]\n\u001b[1;32m    463\u001b[0m     \u001b[39mif\u001b[39;00m \u001b[39mself\u001b[39m\u001b[39m.\u001b[39mwhiten:\n\u001b[1;32m    464\u001b[0m         \u001b[39m# X_new = X * V / S * sqrt(n_samples) = U * sqrt(n_samples)\u001b[39;00m\n",
      "File \u001b[0;32m/Library/Frameworks/Python.framework/Versions/3.10/lib/python3.10/site-packages/sklearn/decomposition/_pca.py:483\u001b[0m, in \u001b[0;36mPCA._fit\u001b[0;34m(self, X)\u001b[0m\n\u001b[1;32m    477\u001b[0m \u001b[39mif\u001b[39;00m issparse(X):\n\u001b[1;32m    478\u001b[0m     \u001b[39mraise\u001b[39;00m \u001b[39mTypeError\u001b[39;00m(\n\u001b[1;32m    479\u001b[0m         \u001b[39m\"\u001b[39m\u001b[39mPCA does not support sparse input. See \u001b[39m\u001b[39m\"\u001b[39m\n\u001b[1;32m    480\u001b[0m         \u001b[39m\"\u001b[39m\u001b[39mTruncatedSVD for a possible alternative.\u001b[39m\u001b[39m\"\u001b[39m\n\u001b[1;32m    481\u001b[0m     )\n\u001b[0;32m--> 483\u001b[0m X \u001b[39m=\u001b[39m \u001b[39mself\u001b[39;49m\u001b[39m.\u001b[39;49m_validate_data(\n\u001b[1;32m    484\u001b[0m     X, dtype\u001b[39m=\u001b[39;49m[np\u001b[39m.\u001b[39;49mfloat64, np\u001b[39m.\u001b[39;49mfloat32], ensure_2d\u001b[39m=\u001b[39;49m\u001b[39mTrue\u001b[39;49;00m, copy\u001b[39m=\u001b[39;49m\u001b[39mself\u001b[39;49m\u001b[39m.\u001b[39;49mcopy\n\u001b[1;32m    485\u001b[0m )\n\u001b[1;32m    487\u001b[0m \u001b[39m# Handle n_components==None\u001b[39;00m\n\u001b[1;32m    488\u001b[0m \u001b[39mif\u001b[39;00m \u001b[39mself\u001b[39m\u001b[39m.\u001b[39mn_components \u001b[39mis\u001b[39;00m \u001b[39mNone\u001b[39;00m:\n",
      "File \u001b[0;32m/Library/Frameworks/Python.framework/Versions/3.10/lib/python3.10/site-packages/sklearn/base.py:605\u001b[0m, in \u001b[0;36mBaseEstimator._validate_data\u001b[0;34m(self, X, y, reset, validate_separately, cast_to_ndarray, **check_params)\u001b[0m\n\u001b[1;32m    603\u001b[0m         out \u001b[39m=\u001b[39m X, y\n\u001b[1;32m    604\u001b[0m \u001b[39melif\u001b[39;00m \u001b[39mnot\u001b[39;00m no_val_X \u001b[39mand\u001b[39;00m no_val_y:\n\u001b[0;32m--> 605\u001b[0m     out \u001b[39m=\u001b[39m check_array(X, input_name\u001b[39m=\u001b[39;49m\u001b[39m\"\u001b[39;49m\u001b[39mX\u001b[39;49m\u001b[39m\"\u001b[39;49m, \u001b[39m*\u001b[39;49m\u001b[39m*\u001b[39;49mcheck_params)\n\u001b[1;32m    606\u001b[0m \u001b[39melif\u001b[39;00m no_val_X \u001b[39mand\u001b[39;00m \u001b[39mnot\u001b[39;00m no_val_y:\n\u001b[1;32m    607\u001b[0m     out \u001b[39m=\u001b[39m _check_y(y, \u001b[39m*\u001b[39m\u001b[39m*\u001b[39mcheck_params)\n",
      "File \u001b[0;32m/Library/Frameworks/Python.framework/Versions/3.10/lib/python3.10/site-packages/sklearn/utils/validation.py:957\u001b[0m, in \u001b[0;36mcheck_array\u001b[0;34m(array, accept_sparse, accept_large_sparse, dtype, order, copy, force_all_finite, ensure_2d, allow_nd, ensure_min_samples, ensure_min_features, estimator, input_name)\u001b[0m\n\u001b[1;32m    951\u001b[0m         \u001b[39mraise\u001b[39;00m \u001b[39mValueError\u001b[39;00m(\n\u001b[1;32m    952\u001b[0m             \u001b[39m\"\u001b[39m\u001b[39mFound array with dim \u001b[39m\u001b[39m%d\u001b[39;00m\u001b[39m. \u001b[39m\u001b[39m%s\u001b[39;00m\u001b[39m expected <= 2.\u001b[39m\u001b[39m\"\u001b[39m\n\u001b[1;32m    953\u001b[0m             \u001b[39m%\u001b[39m (array\u001b[39m.\u001b[39mndim, estimator_name)\n\u001b[1;32m    954\u001b[0m         )\n\u001b[1;32m    956\u001b[0m     \u001b[39mif\u001b[39;00m force_all_finite:\n\u001b[0;32m--> 957\u001b[0m         _assert_all_finite(\n\u001b[1;32m    958\u001b[0m             array,\n\u001b[1;32m    959\u001b[0m             input_name\u001b[39m=\u001b[39;49minput_name,\n\u001b[1;32m    960\u001b[0m             estimator_name\u001b[39m=\u001b[39;49mestimator_name,\n\u001b[1;32m    961\u001b[0m             allow_nan\u001b[39m=\u001b[39;49mforce_all_finite \u001b[39m==\u001b[39;49m \u001b[39m\"\u001b[39;49m\u001b[39mallow-nan\u001b[39;49m\u001b[39m\"\u001b[39;49m,\n\u001b[1;32m    962\u001b[0m         )\n\u001b[1;32m    964\u001b[0m \u001b[39mif\u001b[39;00m ensure_min_samples \u001b[39m>\u001b[39m \u001b[39m0\u001b[39m:\n\u001b[1;32m    965\u001b[0m     n_samples \u001b[39m=\u001b[39m _num_samples(array)\n",
      "File \u001b[0;32m/Library/Frameworks/Python.framework/Versions/3.10/lib/python3.10/site-packages/sklearn/utils/validation.py:122\u001b[0m, in \u001b[0;36m_assert_all_finite\u001b[0;34m(X, allow_nan, msg_dtype, estimator_name, input_name)\u001b[0m\n\u001b[1;32m    119\u001b[0m \u001b[39mif\u001b[39;00m first_pass_isfinite:\n\u001b[1;32m    120\u001b[0m     \u001b[39mreturn\u001b[39;00m\n\u001b[0;32m--> 122\u001b[0m _assert_all_finite_element_wise(\n\u001b[1;32m    123\u001b[0m     X,\n\u001b[1;32m    124\u001b[0m     xp\u001b[39m=\u001b[39;49mxp,\n\u001b[1;32m    125\u001b[0m     allow_nan\u001b[39m=\u001b[39;49mallow_nan,\n\u001b[1;32m    126\u001b[0m     msg_dtype\u001b[39m=\u001b[39;49mmsg_dtype,\n\u001b[1;32m    127\u001b[0m     estimator_name\u001b[39m=\u001b[39;49mestimator_name,\n\u001b[1;32m    128\u001b[0m     input_name\u001b[39m=\u001b[39;49minput_name,\n\u001b[1;32m    129\u001b[0m )\n",
      "File \u001b[0;32m/Library/Frameworks/Python.framework/Versions/3.10/lib/python3.10/site-packages/sklearn/utils/validation.py:171\u001b[0m, in \u001b[0;36m_assert_all_finite_element_wise\u001b[0;34m(X, xp, allow_nan, msg_dtype, estimator_name, input_name)\u001b[0m\n\u001b[1;32m    154\u001b[0m \u001b[39mif\u001b[39;00m estimator_name \u001b[39mand\u001b[39;00m input_name \u001b[39m==\u001b[39m \u001b[39m\"\u001b[39m\u001b[39mX\u001b[39m\u001b[39m\"\u001b[39m \u001b[39mand\u001b[39;00m has_nan_error:\n\u001b[1;32m    155\u001b[0m     \u001b[39m# Improve the error message on how to handle missing values in\u001b[39;00m\n\u001b[1;32m    156\u001b[0m     \u001b[39m# scikit-learn.\u001b[39;00m\n\u001b[1;32m    157\u001b[0m     msg_err \u001b[39m+\u001b[39m\u001b[39m=\u001b[39m (\n\u001b[1;32m    158\u001b[0m         \u001b[39mf\u001b[39m\u001b[39m\"\u001b[39m\u001b[39m\\n\u001b[39;00m\u001b[39m{\u001b[39;00mestimator_name\u001b[39m}\u001b[39;00m\u001b[39m does not accept missing values\u001b[39m\u001b[39m\"\u001b[39m\n\u001b[1;32m    159\u001b[0m         \u001b[39m\"\u001b[39m\u001b[39m encoded as NaN natively. For supervised learning, you might want\u001b[39m\u001b[39m\"\u001b[39m\n\u001b[0;32m   (...)\u001b[0m\n\u001b[1;32m    169\u001b[0m         \u001b[39m\"\u001b[39m\u001b[39m#estimators-that-handle-nan-values\u001b[39m\u001b[39m\"\u001b[39m\n\u001b[1;32m    170\u001b[0m     )\n\u001b[0;32m--> 171\u001b[0m \u001b[39mraise\u001b[39;00m \u001b[39mValueError\u001b[39;00m(msg_err)\n",
      "\u001b[0;31mValueError\u001b[0m: Input X contains NaN.\nPCA does not accept missing values encoded as NaN natively. For supervised learning, you might want to consider sklearn.ensemble.HistGradientBoostingClassifier and Regressor which accept missing values encoded as NaNs natively. Alternatively, it is possible to preprocess the data, for instance by using an imputer transformer in a pipeline or drop samples with missing values. See https://scikit-learn.org/stable/modules/impute.html You can find a list of all estimators that handle NaN values at the following page: https://scikit-learn.org/stable/modules/impute.html#estimators-that-handle-nan-values"
     ]
    }
   ],
   "source": [
    "from sklearn.preprocessing import StandardScaler\n",
    "from sklearn.decomposition import PCA\n",
    "\n",
    "y = train_data['Cover_Type'] \n",
    "X = train_data.drop('Cover_Type', axis=1) \n",
    "scaler = StandardScaler() \n",
    "X_scaled = scaler.fit_transform(X) \n",
    "pca = PCA(n_components=20) \n",
    "X_pca = pca.fit_transform(X_scaled)"
   ]
  },
  {
   "cell_type": "code",
   "execution_count": null,
   "id": "adcef28e",
   "metadata": {},
   "outputs": [
    {
     "data": {
      "image/png": "[encoded data removed]",
      "text/plain": [
       "<Figure size 1000x600 with 2 Axes>"
      ]
     },
     "metadata": {},
     "output_type": "display_data"
    }
   ],
   "source": [
    "components_df = pd.DataFrame(pca.components_, columns=[f'Feature {i}' for i in range(X_scaled.shape[1])])\n",
    "\n",
    "plt.figure(figsize=(10, 6))\n",
    "sns.heatmap(components_df, cmap='viridis', annot=True)\n",
    "plt.title('PCA Components')\n",
    "plt.ylabel('Component Number')\n",
    "plt.xlabel('Feature Index')\n",
    "plt.show()\n"
   ]
  },
  {
   "cell_type": "markdown",
   "id": "6790816b",
   "metadata": {},
   "source": [
    "The main drawback is that PCA is not very interpretable, so we look at various classifier rankings next."
   ]
  },
  {
   "cell_type": "markdown",
   "id": "226fe8b8",
   "metadata": {},
   "source": [
    "### Classifier Rankings"
   ]
  },
  {
   "cell_type": "markdown",
   "id": "970998ce",
   "metadata": {},
   "source": [
    "Random Forest Classifier"
   ]
  },
  {
   "cell_type": "code",
   "execution_count": 57,
   "id": "8f188bce",
   "metadata": {},
   "outputs": [
    {
     "data": {
      "text/html": [
       "<div>\n",
       "<style scoped>\n",
       "    .dataframe tbody tr th:only-of-type {\n",
       "        vertical-align: middle;\n",
       "    }\n",
       "\n",
       "    .dataframe tbody tr th {\n",
       "        vertical-align: top;\n",
       "    }\n",
       "\n",
       "    .dataframe thead th {\n",
       "        text-align: right;\n",
       "    }\n",
       "</style>\n",
       "<table border=\"1\" class=\"dataframe\">\n",
       "  <thead>\n",
       "    <tr style=\"text-align: right;\">\n",
       "      <th></th>\n",
       "      <th>RFC</th>\n",
       "      <th>RFC Importance</th>\n",
       "    </tr>\n",
       "  </thead>\n",
       "  <tbody>\n",
       "    <tr>\n",
       "      <th>0</th>\n",
       "      <td>Elevation</td>\n",
       "      <td>0.120075</td>\n",
       "    </tr>\n",
       "    <tr>\n",
       "      <th>1</th>\n",
       "      <td>Mean_Elevation_Vertical_Distance_Hydrology</td>\n",
       "      <td>0.092881</td>\n",
       "    </tr>\n",
       "    <tr>\n",
       "      <th>2</th>\n",
       "      <td>ELU_Code</td>\n",
       "      <td>0.046943</td>\n",
       "    </tr>\n",
       "    <tr>\n",
       "      <th>3</th>\n",
       "      <td>Fire_p_Road</td>\n",
       "      <td>0.037209</td>\n",
       "    </tr>\n",
       "    <tr>\n",
       "      <th>4</th>\n",
       "      <td>Mean_Distance_Firepoints_Roadways</td>\n",
       "      <td>0.035429</td>\n",
       "    </tr>\n",
       "    <tr>\n",
       "      <th>5</th>\n",
       "      <td>Horizontal_Distance_To_Roadways</td>\n",
       "      <td>0.035134</td>\n",
       "    </tr>\n",
       "    <tr>\n",
       "      <th>6</th>\n",
       "      <td>Hyd_m_Road</td>\n",
       "      <td>0.033510</td>\n",
       "    </tr>\n",
       "    <tr>\n",
       "      <th>7</th>\n",
       "      <td>Horizontal_Distance_To_Hydrology</td>\n",
       "      <td>0.032674</td>\n",
       "    </tr>\n",
       "    <tr>\n",
       "      <th>8</th>\n",
       "      <td>Wilderness_Area4</td>\n",
       "      <td>0.031317</td>\n",
       "    </tr>\n",
       "    <tr>\n",
       "      <th>9</th>\n",
       "      <td>Hyd_p_Road</td>\n",
       "      <td>0.030252</td>\n",
       "    </tr>\n",
       "  </tbody>\n",
       "</table>\n",
       "</div>"
      ],
      "text/plain": [
       "                                          RFC  RFC Importance\n",
       "0                                   Elevation        0.120075\n",
       "1  Mean_Elevation_Vertical_Distance_Hydrology        0.092881\n",
       "2                                    ELU_Code        0.046943\n",
       "3                                 Fire_p_Road        0.037209\n",
       "4           Mean_Distance_Firepoints_Roadways        0.035429\n",
       "5             Horizontal_Distance_To_Roadways        0.035134\n",
       "6                                  Hyd_m_Road        0.033510\n",
       "7            Horizontal_Distance_To_Hydrology        0.032674\n",
       "8                            Wilderness_Area4        0.031317\n",
       "9                                  Hyd_p_Road        0.030252"
      ]
     },
     "execution_count": 57,
     "metadata": {},
     "output_type": "execute_result"
    }
   ],
   "source": [
    "X = train_data.drop(['Id', 'Cover_Type'], axis=1) \n",
    "y = train_data['Cover_Type']\n",
    "\n",
    "# train random forest\n",
    "RFC_model = RandomForestClassifier(random_state=0, n_jobs=-1)\n",
    "RFC_model.fit(X, y)\n",
    "\n",
    "# Extract feature importance\n",
    "importances = RFC_model.feature_importances_\n",
    "indices = np.argsort(importances)[::-1]  # Sort by importance\n",
    "\n",
    "# Get feature names and their importances\n",
    "rfc_list = [X.columns[indices[f]] for f in range(X.shape[1])]\n",
    "rfci_list = [importances[indices[f]] for f in range(X.shape[1])]\n",
    "\n",
    "ranking_rfc = pd.DataFrame({\n",
    "    'RFC': rfc_list,\n",
    "    'RFC Importance': rfci_list\n",
    "})\n",
    "\n",
    "ranking_rfc.head(10)\n"
   ]
  },
  {
   "cell_type": "markdown",
   "id": "08232d0f",
   "metadata": {},
   "source": [
    "Extra Trees Classifier"
   ]
  },
  {
   "cell_type": "code",
   "execution_count": 58,
   "id": "1e4d3bf6",
   "metadata": {},
   "outputs": [
    {
     "data": {
      "text/html": [
       "<div>\n",
       "<style scoped>\n",
       "    .dataframe tbody tr th:only-of-type {\n",
       "        vertical-align: middle;\n",
       "    }\n",
       "\n",
       "    .dataframe tbody tr th {\n",
       "        vertical-align: top;\n",
       "    }\n",
       "\n",
       "    .dataframe thead th {\n",
       "        text-align: right;\n",
       "    }\n",
       "</style>\n",
       "<table border=\"1\" class=\"dataframe\">\n",
       "  <thead>\n",
       "    <tr style=\"text-align: right;\">\n",
       "      <th></th>\n",
       "      <th>ETC</th>\n",
       "      <th>ETC Importance</th>\n",
       "    </tr>\n",
       "  </thead>\n",
       "  <tbody>\n",
       "    <tr>\n",
       "      <th>0</th>\n",
       "      <td>Elevation</td>\n",
       "      <td>0.085325</td>\n",
       "    </tr>\n",
       "    <tr>\n",
       "      <th>1</th>\n",
       "      <td>Mean_Elevation_Vertical_Distance_Hydrology</td>\n",
       "      <td>0.062357</td>\n",
       "    </tr>\n",
       "    <tr>\n",
       "      <th>2</th>\n",
       "      <td>Climatic_alpine</td>\n",
       "      <td>0.037987</td>\n",
       "    </tr>\n",
       "    <tr>\n",
       "      <th>3</th>\n",
       "      <td>Wilderness_Area4</td>\n",
       "      <td>0.037553</td>\n",
       "    </tr>\n",
       "    <tr>\n",
       "      <th>4</th>\n",
       "      <td>ELU_Code</td>\n",
       "      <td>0.037380</td>\n",
       "    </tr>\n",
       "    <tr>\n",
       "      <th>5</th>\n",
       "      <td>Mean_Distance_Firepoints_Roadways</td>\n",
       "      <td>0.032938</td>\n",
       "    </tr>\n",
       "    <tr>\n",
       "      <th>6</th>\n",
       "      <td>Hyd_m_Road</td>\n",
       "      <td>0.032617</td>\n",
       "    </tr>\n",
       "    <tr>\n",
       "      <th>7</th>\n",
       "      <td>Fire_p_Road</td>\n",
       "      <td>0.031843</td>\n",
       "    </tr>\n",
       "    <tr>\n",
       "      <th>8</th>\n",
       "      <td>Hyd_p_Road</td>\n",
       "      <td>0.029847</td>\n",
       "    </tr>\n",
       "    <tr>\n",
       "      <th>9</th>\n",
       "      <td>Horizontal_Distance_To_Roadways</td>\n",
       "      <td>0.029653</td>\n",
       "    </tr>\n",
       "  </tbody>\n",
       "</table>\n",
       "</div>"
      ],
      "text/plain": [
       "                                          ETC  ETC Importance\n",
       "0                                   Elevation        0.085325\n",
       "1  Mean_Elevation_Vertical_Distance_Hydrology        0.062357\n",
       "2                             Climatic_alpine        0.037987\n",
       "3                            Wilderness_Area4        0.037553\n",
       "4                                    ELU_Code        0.037380\n",
       "5           Mean_Distance_Firepoints_Roadways        0.032938\n",
       "6                                  Hyd_m_Road        0.032617\n",
       "7                                 Fire_p_Road        0.031843\n",
       "8                                  Hyd_p_Road        0.029847\n",
       "9             Horizontal_Distance_To_Roadways        0.029653"
      ]
     },
     "execution_count": 58,
     "metadata": {},
     "output_type": "execute_result"
    }
   ],
   "source": [
    "from sklearn.ensemble import ExtraTreesClassifier\n",
    "\n",
    "ETC_model = ExtraTreesClassifier(random_state=0, n_jobs=-1)\n",
    "ETC_model.fit(X, y)\n",
    "\n",
    "importances = ETC_model.feature_importances_\n",
    "indices = np.argsort(importances)[::-1]  # Sort by importance\n",
    "\n",
    "# Get feature names and their importances\n",
    "etc_list = [X.columns[indices[f]] for f in range(X.shape[1])]\n",
    "etci_list = [importances[indices[f]] for f in range(X.shape[1])]\n",
    "\n",
    "ranking_etc = pd.DataFrame({\n",
    "    'ETC': etc_list,\n",
    "    'ETC Importance': etci_list\n",
    "})\n",
    "\n",
    "ranking_etc.head(10)\n"
   ]
  },
  {
   "cell_type": "markdown",
   "id": "4211da2a",
   "metadata": {},
   "source": [
    "Gradient Boosting Classifier"
   ]
  },
  {
   "cell_type": "code",
   "execution_count": 59,
   "id": "a89c751a",
   "metadata": {},
   "outputs": [
    {
     "data": {
      "text/html": [
       "<div>\n",
       "<style scoped>\n",
       "    .dataframe tbody tr th:only-of-type {\n",
       "        vertical-align: middle;\n",
       "    }\n",
       "\n",
       "    .dataframe tbody tr th {\n",
       "        vertical-align: top;\n",
       "    }\n",
       "\n",
       "    .dataframe thead th {\n",
       "        text-align: right;\n",
       "    }\n",
       "</style>\n",
       "<table border=\"1\" class=\"dataframe\">\n",
       "  <thead>\n",
       "    <tr style=\"text-align: right;\">\n",
       "      <th></th>\n",
       "      <th>GBC</th>\n",
       "      <th>GBC Importance</th>\n",
       "    </tr>\n",
       "  </thead>\n",
       "  <tbody>\n",
       "    <tr>\n",
       "      <th>0</th>\n",
       "      <td>Elevation</td>\n",
       "      <td>0.405957</td>\n",
       "    </tr>\n",
       "    <tr>\n",
       "      <th>1</th>\n",
       "      <td>ELU_Code</td>\n",
       "      <td>0.106980</td>\n",
       "    </tr>\n",
       "    <tr>\n",
       "      <th>2</th>\n",
       "      <td>Soil_Type10</td>\n",
       "      <td>0.057115</td>\n",
       "    </tr>\n",
       "    <tr>\n",
       "      <th>3</th>\n",
       "      <td>Climatic_subalpine</td>\n",
       "      <td>0.042353</td>\n",
       "    </tr>\n",
       "    <tr>\n",
       "      <th>4</th>\n",
       "      <td>Hillshade_9am</td>\n",
       "      <td>0.040256</td>\n",
       "    </tr>\n",
       "    <tr>\n",
       "      <th>5</th>\n",
       "      <td>Horizontal_Distance_To_Hydrology</td>\n",
       "      <td>0.028050</td>\n",
       "    </tr>\n",
       "    <tr>\n",
       "      <th>6</th>\n",
       "      <td>Hyd_m_Road</td>\n",
       "      <td>0.027259</td>\n",
       "    </tr>\n",
       "    <tr>\n",
       "      <th>7</th>\n",
       "      <td>Soil_Type30</td>\n",
       "      <td>0.026519</td>\n",
       "    </tr>\n",
       "    <tr>\n",
       "      <th>8</th>\n",
       "      <td>Climatic_alpine</td>\n",
       "      <td>0.025435</td>\n",
       "    </tr>\n",
       "    <tr>\n",
       "      <th>9</th>\n",
       "      <td>Fire_m_Road</td>\n",
       "      <td>0.024047</td>\n",
       "    </tr>\n",
       "  </tbody>\n",
       "</table>\n",
       "</div>"
      ],
      "text/plain": [
       "                                GBC  GBC Importance\n",
       "0                         Elevation        0.405957\n",
       "1                          ELU_Code        0.106980\n",
       "2                       Soil_Type10        0.057115\n",
       "3                Climatic_subalpine        0.042353\n",
       "4                     Hillshade_9am        0.040256\n",
       "5  Horizontal_Distance_To_Hydrology        0.028050\n",
       "6                        Hyd_m_Road        0.027259\n",
       "7                       Soil_Type30        0.026519\n",
       "8                   Climatic_alpine        0.025435\n",
       "9                       Fire_m_Road        0.024047"
      ]
     },
     "execution_count": 59,
     "metadata": {},
     "output_type": "execute_result"
    }
   ],
   "source": [
    "from sklearn.ensemble import GradientBoostingClassifier\n",
    "\n",
    "GBC_model = GradientBoostingClassifier(random_state=0)\n",
    "GBC_model.fit(X, y)\n",
    "\n",
    "# Extract Feature Importance\n",
    "importances = GBC_model.feature_importances_\n",
    "indices = np.argsort(importances)[::-1]  # Sort by importance\n",
    "\n",
    "# Get feature names and their importances\n",
    "gbc_list = [X.columns[indices[f]] for f in range(X.shape[1])]\n",
    "gbci_list = [importances[indices[f]] for f in range(X.shape[1])]\n",
    "\n",
    "ranking_gbc = pd.DataFrame({\n",
    "    'GBC': gbc_list,\n",
    "    'GBC Importance': gbci_list\n",
    "})\n",
    "\n",
    "ranking_gbc.head(10)\n"
   ]
  },
  {
   "cell_type": "markdown",
   "id": "02ebe272",
   "metadata": {},
   "source": [
    "AdaBoost"
   ]
  },
  {
   "cell_type": "code",
   "execution_count": 60,
   "id": "ba2a7cb3",
   "metadata": {},
   "outputs": [
    {
     "data": {
      "text/html": [
       "<div>\n",
       "<style scoped>\n",
       "    .dataframe tbody tr th:only-of-type {\n",
       "        vertical-align: middle;\n",
       "    }\n",
       "\n",
       "    .dataframe tbody tr th {\n",
       "        vertical-align: top;\n",
       "    }\n",
       "\n",
       "    .dataframe thead th {\n",
       "        text-align: right;\n",
       "    }\n",
       "</style>\n",
       "<table border=\"1\" class=\"dataframe\">\n",
       "  <thead>\n",
       "    <tr style=\"text-align: right;\">\n",
       "      <th></th>\n",
       "      <th>ABC</th>\n",
       "      <th>ABC Importance</th>\n",
       "    </tr>\n",
       "  </thead>\n",
       "  <tbody>\n",
       "    <tr>\n",
       "      <th>0</th>\n",
       "      <td>Wilderness_Area4</td>\n",
       "      <td>0.48</td>\n",
       "    </tr>\n",
       "    <tr>\n",
       "      <th>1</th>\n",
       "      <td>Mean_Elevation_Vertical_Distance_Hydrology</td>\n",
       "      <td>0.46</td>\n",
       "    </tr>\n",
       "    <tr>\n",
       "      <th>2</th>\n",
       "      <td>Elevation</td>\n",
       "      <td>0.06</td>\n",
       "    </tr>\n",
       "    <tr>\n",
       "      <th>3</th>\n",
       "      <td>Soil_Type16</td>\n",
       "      <td>0.00</td>\n",
       "    </tr>\n",
       "    <tr>\n",
       "      <th>4</th>\n",
       "      <td>Soil_Type9</td>\n",
       "      <td>0.00</td>\n",
       "    </tr>\n",
       "    <tr>\n",
       "      <th>5</th>\n",
       "      <td>Soil_Type10</td>\n",
       "      <td>0.00</td>\n",
       "    </tr>\n",
       "    <tr>\n",
       "      <th>6</th>\n",
       "      <td>Soil_Type11</td>\n",
       "      <td>0.00</td>\n",
       "    </tr>\n",
       "    <tr>\n",
       "      <th>7</th>\n",
       "      <td>Soil_Type12</td>\n",
       "      <td>0.00</td>\n",
       "    </tr>\n",
       "    <tr>\n",
       "      <th>8</th>\n",
       "      <td>Soil_Type13</td>\n",
       "      <td>0.00</td>\n",
       "    </tr>\n",
       "    <tr>\n",
       "      <th>9</th>\n",
       "      <td>Soil_Type14</td>\n",
       "      <td>0.00</td>\n",
       "    </tr>\n",
       "  </tbody>\n",
       "</table>\n",
       "</div>"
      ],
      "text/plain": [
       "                                          ABC  ABC Importance\n",
       "0                            Wilderness_Area4            0.48\n",
       "1  Mean_Elevation_Vertical_Distance_Hydrology            0.46\n",
       "2                                   Elevation            0.06\n",
       "3                                 Soil_Type16            0.00\n",
       "4                                  Soil_Type9            0.00\n",
       "5                                 Soil_Type10            0.00\n",
       "6                                 Soil_Type11            0.00\n",
       "7                                 Soil_Type12            0.00\n",
       "8                                 Soil_Type13            0.00\n",
       "9                                 Soil_Type14            0.00"
      ]
     },
     "execution_count": 60,
     "metadata": {},
     "output_type": "execute_result"
    }
   ],
   "source": [
    "from sklearn.ensemble import AdaBoostClassifier\n",
    "\n",
    "ABC_model = AdaBoostClassifier(random_state=0)\n",
    "ABC_model.fit(X, y)\n",
    "\n",
    "# extract feature importance\n",
    "importances = ABC_model.feature_importances_\n",
    "indices = np.argsort(importances)[::-1]  # Sort by importance\n",
    "\n",
    "# Get feature names and their importances\n",
    "abc_list = [X.columns[indices[f]] for f in range(X.shape[1])]\n",
    "abci_list = [importances[indices[f]] for f in range(X.shape[1])]\n",
    "\n",
    "ranking_ada = pd.DataFrame({\n",
    "    'ABC': abc_list,\n",
    "    'ABC Importance': abci_list\n",
    "})\n",
    "\n",
    "ranking_ada.head(10)"
   ]
  },
  {
   "cell_type": "markdown",
   "id": "4f7f96e5",
   "metadata": {},
   "source": [
    "### Correlation coefficients"
   ]
  },
  {
   "cell_type": "code",
   "execution_count": 61,
   "id": "db3adff7",
   "metadata": {},
   "outputs": [
    {
     "name": "stdout",
     "output_type": "stream",
     "text": [
      "Ranking of features by absolute correlation with 'Cover_Type':\n",
      "Climatic_alpine           0.436913\n",
      "Climatic_subalpine        0.409168\n",
      "Soil_Type38               0.254248\n",
      "Geologic_glacial          0.237106\n",
      "Soil_Type39               0.234777\n",
      "                            ...   \n",
      "Climatic_lower montane    0.004088\n",
      "Category_Stony            0.002978\n",
      "Soil_Type26               0.002939\n",
      "Soil_Type34               0.002877\n",
      "Soil_Type15                    NaN\n",
      "Name: Cover_Type, Length: 81, dtype: float64\n",
      "\n",
      "Features with low correlation (absolute value < 0.05):\n",
      "['Soil_Type19', 'Climatic_montane and subalpine', 'Hillshade_3pm', 'Soil_Type17', 'Soil_Type20', 'Soil_Type5', 'Soil_Type21', 'ELU_Code', 'Soil_Type13', 'Soil_Type4', 'Soil_Type14', 'Climatic_montane dry and montane', 'Wilderness_Area2', 'Mean_Elevation_Vertical_Distance_Hydrology', 'Soil_Type25', 'Soil_Type36', 'Soil_Type27', 'Geologic_alluvium', 'Soil_Type3', 'Geologic_mixed sedimentary', 'Climatic_montane dry', 'Soil_Type9', 'Soil_Type1', 'Soil_Type8', 'Soil_Type16', 'Hillshade_9am', 'Elevation', 'Soil_Type18', 'Soil_Type28', 'Soil_Type2', 'Aspect', 'Soil_Type7', 'Soil_Type6', 'Soil_Type30', 'Horizontal_Distance_To_Hydrology', 'Soil_Type11', 'Climatic_lower montane', 'Category_Stony', 'Soil_Type26', 'Soil_Type34']\n"
     ]
    }
   ],
   "source": [
    "correlation_matrix = train_data.corr()  # Compute the correlation matrix\n",
    "\n",
    "# Calculate the correlation of each feature with 'Cover_Type'\n",
    "feature_correlation = correlation_matrix['Cover_Type'].drop(['Cover_Type', 'Id'])  # Exclude self-correlation and Id\n",
    "ranking_corr = feature_correlation.abs().sort_values(ascending=False)\n",
    "\n",
    "# Print the ranking of features based on their absolute correlation with 'Cover_Type'\n",
    "print(\"Ranking of features by absolute correlation with 'Cover_Type':\")\n",
    "print(ranking_corr)\n",
    "\n",
    "# Decide on a threshold for low correlation and identify low correlation features\n",
    "low_correlation_features = ranking_corr[ranking_corr < 0.05].index.tolist()\n",
    "\n",
    "print(\"\\nFeatures with low correlation (absolute value < 0.05):\")\n",
    "print(low_correlation_features)"
   ]
  },
  {
   "cell_type": "markdown",
   "id": "3e02b8ba",
   "metadata": {},
   "source": [
    "### Features to keep"
   ]
  },
  {
   "cell_type": "markdown",
   "id": "747f432f",
   "metadata": {},
   "source": [
    "Chose only one of the options below!"
   ]
  },
  {
   "cell_type": "markdown",
   "id": "f8b7e268",
   "metadata": {},
   "source": [
    "Option 1: Handpick features"
   ]
  },
  {
   "cell_type": "code",
   "execution_count": null,
   "id": "bb2fc08d",
   "metadata": {},
   "outputs": [],
   "source": [
    "hp_features = ['Elevation', \n",
    "               'Wilderness_Area4', \n",
    "               'Horizontal_Distance_To_Hydrology', 'Vertical_Distance_To_Hydrology',\n",
    "               'Horizontal_Distance_To_Roadways', 'Horizontal_Distance_To_Fire_Points', \n",
    "               'Soil_Type2','Soil_Type4', 'Soil_Type10', 'Soil_Type22', 'Soil_Type23', 'Soil_Type39',\n",
    "               'Fire_p_Road', 'Hyd_m_Road', 'Hyd_p_Road',\n",
    "                'Mean_Distance_Firepoints_Roadways', 'Mean_Elevation_Vertical_Distance_Hydrology', 'Mean_Distance_Hydrology_Roadways',\n",
    "                'Clim6', 'Clim7', 'Clim8']\n",
    "\n",
    "\n",
    "train_features = hp_features + ['Cover_Type'] + ['Id']\n",
    "test_features = hp_features + ['Id']\n",
    "\n",
    "train = train_data[train_features]\n",
    "test = test_data[test_features]\n"
   ]
  },
  {
   "cell_type": "markdown",
   "id": "e1a3168b",
   "metadata": {},
   "source": [
    "Option 2:  combine all the rankings created above and select the features that appear in at least one of the rankings' top 10 features.\n",
    "\n",
    "-> Better score with option 2 "
   ]
  },
  {
   "cell_type": "code",
   "execution_count": null,
   "id": "19ba7d44",
   "metadata": {},
   "outputs": [
    {
     "data": {
      "text/plain": [
       "{'Clim4',\n",
       " 'Clim7',\n",
       " 'Clim8',\n",
       " 'ELU1',\n",
       " 'ELU2',\n",
       " 'ELU3',\n",
       " 'ELU4',\n",
       " 'Elevation',\n",
       " 'Fire_m_Road',\n",
       " 'Fire_p_Road',\n",
       " 'Geo2',\n",
       " 'Geo4',\n",
       " 'Hillshade_9am',\n",
       " 'Horizontal_Distance_To_Hydrology',\n",
       " 'Horizontal_Distance_To_Roadways',\n",
       " 'Hyd_m_Road',\n",
       " 'Mean_Distance_Firepoints_Roadways',\n",
       " 'Mean_Distance_Hydrology_Roadways',\n",
       " 'Mean_Elevation_Vertical_Distance_Hydrology',\n",
       " 'Soil_Other',\n",
       " 'Wilderness_Area1',\n",
       " 'Wilderness_Area2',\n",
       " 'Wilderness_Area3',\n",
       " 'Wilderness_Area4'}"
      ]
     },
     "execution_count": 67,
     "metadata": {},
     "output_type": "execute_result"
    }
   ],
   "source": [
    "# Keep the top 10 of each ranking/method\n",
    "top10_rf = set(ranking_rfc['RFC'].head(10))\n",
    "top10_et = set(ranking_etc['ETC'].head(10))\n",
    "top10_gb = set(ranking_gbc['GBC'].head(10))\n",
    "top10_ab = set(ranking_ada['ABC'].head(10))\n",
    "top10_corr = ranking_corr.head(10).index.tolist()\n",
    "\n",
    "# Combine the sets to get unique features from the top 10 of any classifier\n",
    "unique_top_features = top10_rf.union(top10_et).union(top10_gb).union(top10_ab).union(top10_corr)\n",
    "unique_top_features"
   ]
  },
  {
   "cell_type": "code",
   "execution_count": null,
   "id": "b3ca1997",
   "metadata": {},
   "outputs": [],
   "source": [
    "unique_top_features_list = list(unique_top_features)\n",
    "\n",
    "train_features = unique_top_features_list + ['Cover_Type'] + ['Id']\n",
    "test_features = unique_top_features_list + ['Id']\n",
    "\n",
    "train = train_data[train_features]\n",
    "test = test_data[test_features]"
   ]
  },
  {
   "cell_type": "markdown",
   "id": "6fb295ad",
   "metadata": {},
   "source": [
    "# 2. Prediction"
   ]
  },
  {
   "cell_type": "markdown",
   "id": "c2e64e17",
   "metadata": {},
   "source": [
    "++ for our report: create a fct where we can compare all of our scores (e.g. creates a matrix with all the different scores)"
   ]
  },
  {
   "cell_type": "code",
   "execution_count": 62,
   "id": "90ecb43f",
   "metadata": {},
   "outputs": [],
   "source": [
    "train = train_data\n",
    "test = test_data"
   ]
  },
  {
   "cell_type": "code",
   "execution_count": 63,
   "id": "cde1e3c4",
   "metadata": {},
   "outputs": [
    {
     "name": "stdout",
     "output_type": "stream",
     "text": [
      "(15120, 83)\n",
      "(581012, 82)\n"
     ]
    }
   ],
   "source": [
    "# check what the train and test shapes looks like with feature engineering implemented\n",
    "# train should have one more column (the Cover_Type) compared to test\n",
    "print(train.shape) \n",
    "print(test.shape)\n"
   ]
  },
  {
   "cell_type": "markdown",
   "id": "24ab2cf1",
   "metadata": {},
   "source": [
    "### Train the model(s)"
   ]
  },
  {
   "cell_type": "markdown",
   "id": "bebdeea9",
   "metadata": {},
   "source": [
    "Split the datasets for validation"
   ]
  },
  {
   "cell_type": "code",
   "execution_count": 64,
   "id": "7a86ccfc",
   "metadata": {},
   "outputs": [],
   "source": [
    "# Prepare the data for the prediction\n",
    "X = train.drop(['Id', 'Cover_Type'], axis=1)\n",
    "y = train['Cover_Type']\n",
    "\n",
    "# Split the data into training and validation sets\n",
    "X_train, X_val, y_train, y_val = train_test_split(X, y, test_size=0.2, random_state=42)\n"
   ]
  },
  {
   "cell_type": "markdown",
   "id": "82fdaa13",
   "metadata": {},
   "source": [
    "Random Forest Classifier"
   ]
  },
  {
   "cell_type": "code",
   "execution_count": 65,
   "id": "357ac7ee",
   "metadata": {},
   "outputs": [
    {
     "name": "stdout",
     "output_type": "stream",
     "text": [
      "Random Forest Accuracy: 0.8878968253968254\n"
     ]
    }
   ],
   "source": [
    "# Initialize the Random Forest Classifier\n",
    "rf_model = RandomForestClassifier(n_estimators=100, random_state=17)\n",
    "\n",
    "# Train the model\n",
    "rf_model.fit(X_train, y_train)\n",
    "\n",
    "# Predict on the validation set\n",
    "y_pred = rf_model.predict(X_val)\n",
    "\n",
    "# Evaluate the model\n",
    "accuracy_rf = accuracy_score(y_val, y_pred)\n",
    "print(f'Random Forest Accuracy: {accuracy_rf}')\n"
   ]
  },
  {
   "cell_type": "markdown",
   "id": "18622cad",
   "metadata": {},
   "source": [
    "Gradient Boosting Classifier"
   ]
  },
  {
   "cell_type": "code",
   "execution_count": 66,
   "id": "3cf1c8ec",
   "metadata": {},
   "outputs": [
    {
     "name": "stdout",
     "output_type": "stream",
     "text": [
      "Gradient Boosting Classifier Accuracy: 0.8161375661375662\n"
     ]
    }
   ],
   "source": [
    "from sklearn.ensemble import GradientBoostingClassifier\n",
    "from sklearn.metrics import accuracy_score\n",
    "\n",
    "# Initialize the Gradient Boosting Classifier\n",
    "gb_model = GradientBoostingClassifier(random_state=17)\n",
    "\n",
    "# Train the model\n",
    "gb_model.fit(X_train, y_train)\n",
    "\n",
    "# Predict on the validation set\n",
    "y_pred_gb = gb_model.predict(X_val)\n",
    "\n",
    "# Evaluate the model\n",
    "accuracy_gb = accuracy_score(y_val, y_pred_gb)\n",
    "print(f'Gradient Boosting Classifier Accuracy: {accuracy_gb}')\n"
   ]
  },
  {
   "cell_type": "markdown",
   "id": "2c26c1df",
   "metadata": {},
   "source": [
    "KNN"
   ]
  },
  {
   "cell_type": "code",
   "execution_count": 67,
   "id": "30105222",
   "metadata": {},
   "outputs": [
    {
     "name": "stdout",
     "output_type": "stream",
     "text": [
      "K-Nearest Neighbors Classifier Accuracy: 0.8227513227513228\n"
     ]
    }
   ],
   "source": [
    "from sklearn.neighbors import KNeighborsClassifier\n",
    "from sklearn.metrics import accuracy_score\n",
    "\n",
    "# Initialize the KNN Classifier\n",
    "knn_model = KNeighborsClassifier(weights='distance', n_jobs=-1, n_neighbors=2)\n",
    "\n",
    "# Train the model\n",
    "knn_model.fit(X_train, y_train)\n",
    "\n",
    "# Predict on the validation set\n",
    "y_pred_knn = knn_model.predict(X_val)\n",
    "\n",
    "# Evaluate the model\n",
    "accuracy_knn = accuracy_score(y_val, y_pred_knn)\n",
    "print(f'K-Nearest Neighbors Classifier Accuracy: {accuracy_knn}')\n"
   ]
  },
  {
   "cell_type": "markdown",
   "id": "bcc21935",
   "metadata": {},
   "source": [
    "XGBoost"
   ]
  },
  {
   "cell_type": "code",
   "execution_count": 28,
   "id": "13fbabe9",
   "metadata": {},
   "outputs": [
    {
     "ename": "ValueError",
     "evalue": "DataFrame.dtypes for data must be int, float, bool or category. When categorical type is supplied, The experimental DMatrix parameter`enable_categorical` must be set to `True`.  Invalid columns:ELU_Code: object",
     "output_type": "error",
     "traceback": [
      "\u001b[0;31m---------------------------------------------------------------------------\u001b[0m",
      "\u001b[0;31mValueError\u001b[0m                                Traceback (most recent call last)",
      "\u001b[1;32m/Users/elisebarattini/Documents/1_UNIVERSITY/1.3_Masters/DSB/Courses/2_Semester/MLII/project/forest_covers-1/FeatureEng-4.ipynb Cell 67\u001b[0m line \u001b[0;36m1\n\u001b[1;32m     <a href='vscode-notebook-cell:/Users/elisebarattini/Documents/1_UNIVERSITY/1.3_Masters/DSB/Courses/2_Semester/MLII/project/forest_covers-1/FeatureEng-4.ipynb#Y134sZmlsZQ%3D%3D?line=10'>11</a>\u001b[0m xgb_model \u001b[39m=\u001b[39m XGBClassifier(random_state\u001b[39m=\u001b[39m\u001b[39m5\u001b[39m, use_label_encoder\u001b[39m=\u001b[39m\u001b[39mFalse\u001b[39;00m, eval_metric\u001b[39m=\u001b[39m\u001b[39m'\u001b[39m\u001b[39mlogloss\u001b[39m\u001b[39m'\u001b[39m)\n\u001b[1;32m     <a href='vscode-notebook-cell:/Users/elisebarattini/Documents/1_UNIVERSITY/1.3_Masters/DSB/Courses/2_Semester/MLII/project/forest_covers-1/FeatureEng-4.ipynb#Y134sZmlsZQ%3D%3D?line=12'>13</a>\u001b[0m \u001b[39m# Train the model using the adjusted labels\u001b[39;00m\n\u001b[0;32m---> <a href='vscode-notebook-cell:/Users/elisebarattini/Documents/1_UNIVERSITY/1.3_Masters/DSB/Courses/2_Semester/MLII/project/forest_covers-1/FeatureEng-4.ipynb#Y134sZmlsZQ%3D%3D?line=13'>14</a>\u001b[0m xgb_model\u001b[39m.\u001b[39;49mfit(X_train, y_train_adjusted)\n\u001b[1;32m     <a href='vscode-notebook-cell:/Users/elisebarattini/Documents/1_UNIVERSITY/1.3_Masters/DSB/Courses/2_Semester/MLII/project/forest_covers-1/FeatureEng-4.ipynb#Y134sZmlsZQ%3D%3D?line=15'>16</a>\u001b[0m \u001b[39m# Predict on the validation set using the adjusted labels\u001b[39;00m\n\u001b[1;32m     <a href='vscode-notebook-cell:/Users/elisebarattini/Documents/1_UNIVERSITY/1.3_Masters/DSB/Courses/2_Semester/MLII/project/forest_covers-1/FeatureEng-4.ipynb#Y134sZmlsZQ%3D%3D?line=16'>17</a>\u001b[0m y_pred_xgb \u001b[39m=\u001b[39m xgb_model\u001b[39m.\u001b[39mpredict(X_val)\n",
      "File \u001b[0;32m/Library/Frameworks/Python.framework/Versions/3.10/lib/python3.10/site-packages/xgboost/core.py:729\u001b[0m, in \u001b[0;36mrequire_keyword_args.<locals>.throw_if.<locals>.inner_f\u001b[0;34m(*args, **kwargs)\u001b[0m\n\u001b[1;32m    727\u001b[0m \u001b[39mfor\u001b[39;00m k, arg \u001b[39min\u001b[39;00m \u001b[39mzip\u001b[39m(sig\u001b[39m.\u001b[39mparameters, args):\n\u001b[1;32m    728\u001b[0m     kwargs[k] \u001b[39m=\u001b[39m arg\n\u001b[0;32m--> 729\u001b[0m \u001b[39mreturn\u001b[39;00m func(\u001b[39m*\u001b[39;49m\u001b[39m*\u001b[39;49mkwargs)\n",
      "File \u001b[0;32m/Library/Frameworks/Python.framework/Versions/3.10/lib/python3.10/site-packages/xgboost/sklearn.py:1496\u001b[0m, in \u001b[0;36mXGBClassifier.fit\u001b[0;34m(self, X, y, sample_weight, base_margin, eval_set, eval_metric, early_stopping_rounds, verbose, xgb_model, sample_weight_eval_set, base_margin_eval_set, feature_weights, callbacks)\u001b[0m\n\u001b[1;32m   1485\u001b[0m     params[\u001b[39m\"\u001b[39m\u001b[39mnum_class\u001b[39m\u001b[39m\"\u001b[39m] \u001b[39m=\u001b[39m \u001b[39mself\u001b[39m\u001b[39m.\u001b[39mn_classes_\n\u001b[1;32m   1487\u001b[0m (\n\u001b[1;32m   1488\u001b[0m     model,\n\u001b[1;32m   1489\u001b[0m     metric,\n\u001b[0;32m   (...)\u001b[0m\n\u001b[1;32m   1494\u001b[0m     xgb_model, eval_metric, params, early_stopping_rounds, callbacks\n\u001b[1;32m   1495\u001b[0m )\n\u001b[0;32m-> 1496\u001b[0m train_dmatrix, evals \u001b[39m=\u001b[39m _wrap_evaluation_matrices(\n\u001b[1;32m   1497\u001b[0m     missing\u001b[39m=\u001b[39;49m\u001b[39mself\u001b[39;49m\u001b[39m.\u001b[39;49mmissing,\n\u001b[1;32m   1498\u001b[0m     X\u001b[39m=\u001b[39;49mX,\n\u001b[1;32m   1499\u001b[0m     y\u001b[39m=\u001b[39;49my,\n\u001b[1;32m   1500\u001b[0m     group\u001b[39m=\u001b[39;49m\u001b[39mNone\u001b[39;49;00m,\n\u001b[1;32m   1501\u001b[0m     qid\u001b[39m=\u001b[39;49m\u001b[39mNone\u001b[39;49;00m,\n\u001b[1;32m   1502\u001b[0m     sample_weight\u001b[39m=\u001b[39;49msample_weight,\n\u001b[1;32m   1503\u001b[0m     base_margin\u001b[39m=\u001b[39;49mbase_margin,\n\u001b[1;32m   1504\u001b[0m     feature_weights\u001b[39m=\u001b[39;49mfeature_weights,\n\u001b[1;32m   1505\u001b[0m     eval_set\u001b[39m=\u001b[39;49meval_set,\n\u001b[1;32m   1506\u001b[0m     sample_weight_eval_set\u001b[39m=\u001b[39;49msample_weight_eval_set,\n\u001b[1;32m   1507\u001b[0m     base_margin_eval_set\u001b[39m=\u001b[39;49mbase_margin_eval_set,\n\u001b[1;32m   1508\u001b[0m     eval_group\u001b[39m=\u001b[39;49m\u001b[39mNone\u001b[39;49;00m,\n\u001b[1;32m   1509\u001b[0m     eval_qid\u001b[39m=\u001b[39;49m\u001b[39mNone\u001b[39;49;00m,\n\u001b[1;32m   1510\u001b[0m     create_dmatrix\u001b[39m=\u001b[39;49m\u001b[39mself\u001b[39;49m\u001b[39m.\u001b[39;49m_create_dmatrix,\n\u001b[1;32m   1511\u001b[0m     enable_categorical\u001b[39m=\u001b[39;49m\u001b[39mself\u001b[39;49m\u001b[39m.\u001b[39;49menable_categorical,\n\u001b[1;32m   1512\u001b[0m     feature_types\u001b[39m=\u001b[39;49m\u001b[39mself\u001b[39;49m\u001b[39m.\u001b[39;49mfeature_types,\n\u001b[1;32m   1513\u001b[0m )\n\u001b[1;32m   1515\u001b[0m \u001b[39mself\u001b[39m\u001b[39m.\u001b[39m_Booster \u001b[39m=\u001b[39m train(\n\u001b[1;32m   1516\u001b[0m     params,\n\u001b[1;32m   1517\u001b[0m     train_dmatrix,\n\u001b[0;32m   (...)\u001b[0m\n\u001b[1;32m   1526\u001b[0m     callbacks\u001b[39m=\u001b[39mcallbacks,\n\u001b[1;32m   1527\u001b[0m )\n\u001b[1;32m   1529\u001b[0m \u001b[39mif\u001b[39;00m \u001b[39mnot\u001b[39;00m \u001b[39mcallable\u001b[39m(\u001b[39mself\u001b[39m\u001b[39m.\u001b[39mobjective):\n",
      "File \u001b[0;32m/Library/Frameworks/Python.framework/Versions/3.10/lib/python3.10/site-packages/xgboost/sklearn.py:534\u001b[0m, in \u001b[0;36m_wrap_evaluation_matrices\u001b[0;34m(missing, X, y, group, qid, sample_weight, base_margin, feature_weights, eval_set, sample_weight_eval_set, base_margin_eval_set, eval_group, eval_qid, create_dmatrix, enable_categorical, feature_types)\u001b[0m\n\u001b[1;32m    514\u001b[0m \u001b[39mdef\u001b[39;00m \u001b[39m_wrap_evaluation_matrices\u001b[39m(\n\u001b[1;32m    515\u001b[0m     missing: \u001b[39mfloat\u001b[39m,\n\u001b[1;32m    516\u001b[0m     X: Any,\n\u001b[0;32m   (...)\u001b[0m\n\u001b[1;32m    530\u001b[0m     feature_types: Optional[FeatureTypes],\n\u001b[1;32m    531\u001b[0m ) \u001b[39m-\u001b[39m\u001b[39m>\u001b[39m Tuple[Any, List[Tuple[Any, \u001b[39mstr\u001b[39m]]]:\n\u001b[1;32m    532\u001b[0m \u001b[39m    \u001b[39m\u001b[39m\"\"\"Convert array_like evaluation matrices into DMatrix.  Perform validation on the\u001b[39;00m\n\u001b[1;32m    533\u001b[0m \u001b[39m    way.\"\"\"\u001b[39;00m\n\u001b[0;32m--> 534\u001b[0m     train_dmatrix \u001b[39m=\u001b[39m create_dmatrix(\n\u001b[1;32m    535\u001b[0m         data\u001b[39m=\u001b[39;49mX,\n\u001b[1;32m    536\u001b[0m         label\u001b[39m=\u001b[39;49my,\n\u001b[1;32m    537\u001b[0m         group\u001b[39m=\u001b[39;49mgroup,\n\u001b[1;32m    538\u001b[0m         qid\u001b[39m=\u001b[39;49mqid,\n\u001b[1;32m    539\u001b[0m         weight\u001b[39m=\u001b[39;49msample_weight,\n\u001b[1;32m    540\u001b[0m         base_margin\u001b[39m=\u001b[39;49mbase_margin,\n\u001b[1;32m    541\u001b[0m         feature_weights\u001b[39m=\u001b[39;49mfeature_weights,\n\u001b[1;32m    542\u001b[0m         missing\u001b[39m=\u001b[39;49mmissing,\n\u001b[1;32m    543\u001b[0m         enable_categorical\u001b[39m=\u001b[39;49menable_categorical,\n\u001b[1;32m    544\u001b[0m         feature_types\u001b[39m=\u001b[39;49mfeature_types,\n\u001b[1;32m    545\u001b[0m         ref\u001b[39m=\u001b[39;49m\u001b[39mNone\u001b[39;49;00m,\n\u001b[1;32m    546\u001b[0m     )\n\u001b[1;32m    548\u001b[0m     n_validation \u001b[39m=\u001b[39m \u001b[39m0\u001b[39m \u001b[39mif\u001b[39;00m eval_set \u001b[39mis\u001b[39;00m \u001b[39mNone\u001b[39;00m \u001b[39melse\u001b[39;00m \u001b[39mlen\u001b[39m(eval_set)\n\u001b[1;32m    550\u001b[0m     \u001b[39mdef\u001b[39;00m \u001b[39mvalidate_or_none\u001b[39m(meta: Optional[Sequence], name: \u001b[39mstr\u001b[39m) \u001b[39m-\u001b[39m\u001b[39m>\u001b[39m Sequence:\n",
      "File \u001b[0;32m/Library/Frameworks/Python.framework/Versions/3.10/lib/python3.10/site-packages/xgboost/sklearn.py:954\u001b[0m, in \u001b[0;36mXGBModel._create_dmatrix\u001b[0;34m(self, ref, **kwargs)\u001b[0m\n\u001b[1;32m    952\u001b[0m \u001b[39mif\u001b[39;00m _can_use_qdm(\u001b[39mself\u001b[39m\u001b[39m.\u001b[39mtree_method) \u001b[39mand\u001b[39;00m \u001b[39mself\u001b[39m\u001b[39m.\u001b[39mbooster \u001b[39m!=\u001b[39m \u001b[39m\"\u001b[39m\u001b[39mgblinear\u001b[39m\u001b[39m\"\u001b[39m:\n\u001b[1;32m    953\u001b[0m     \u001b[39mtry\u001b[39;00m:\n\u001b[0;32m--> 954\u001b[0m         \u001b[39mreturn\u001b[39;00m QuantileDMatrix(\n\u001b[1;32m    955\u001b[0m             \u001b[39m*\u001b[39;49m\u001b[39m*\u001b[39;49mkwargs, ref\u001b[39m=\u001b[39;49mref, nthread\u001b[39m=\u001b[39;49m\u001b[39mself\u001b[39;49m\u001b[39m.\u001b[39;49mn_jobs, max_bin\u001b[39m=\u001b[39;49m\u001b[39mself\u001b[39;49m\u001b[39m.\u001b[39;49mmax_bin\n\u001b[1;32m    956\u001b[0m         )\n\u001b[1;32m    957\u001b[0m     \u001b[39mexcept\u001b[39;00m \u001b[39mTypeError\u001b[39;00m:  \u001b[39m# `QuantileDMatrix` supports lesser types than DMatrix\u001b[39;00m\n\u001b[1;32m    958\u001b[0m         \u001b[39mpass\u001b[39;00m\n",
      "File \u001b[0;32m/Library/Frameworks/Python.framework/Versions/3.10/lib/python3.10/site-packages/xgboost/core.py:729\u001b[0m, in \u001b[0;36mrequire_keyword_args.<locals>.throw_if.<locals>.inner_f\u001b[0;34m(*args, **kwargs)\u001b[0m\n\u001b[1;32m    727\u001b[0m \u001b[39mfor\u001b[39;00m k, arg \u001b[39min\u001b[39;00m \u001b[39mzip\u001b[39m(sig\u001b[39m.\u001b[39mparameters, args):\n\u001b[1;32m    728\u001b[0m     kwargs[k] \u001b[39m=\u001b[39m arg\n\u001b[0;32m--> 729\u001b[0m \u001b[39mreturn\u001b[39;00m func(\u001b[39m*\u001b[39;49m\u001b[39m*\u001b[39;49mkwargs)\n",
      "File \u001b[0;32m/Library/Frameworks/Python.framework/Versions/3.10/lib/python3.10/site-packages/xgboost/core.py:1528\u001b[0m, in \u001b[0;36mQuantileDMatrix.__init__\u001b[0;34m(self, data, label, weight, base_margin, missing, silent, feature_names, feature_types, nthread, max_bin, ref, group, qid, label_lower_bound, label_upper_bound, feature_weights, enable_categorical, data_split_mode)\u001b[0m\n\u001b[1;32m   1508\u001b[0m     \u001b[39mif\u001b[39;00m \u001b[39many\u001b[39m(\n\u001b[1;32m   1509\u001b[0m         info \u001b[39mis\u001b[39;00m \u001b[39mnot\u001b[39;00m \u001b[39mNone\u001b[39;00m\n\u001b[1;32m   1510\u001b[0m         \u001b[39mfor\u001b[39;00m info \u001b[39min\u001b[39;00m (\n\u001b[0;32m   (...)\u001b[0m\n\u001b[1;32m   1521\u001b[0m         )\n\u001b[1;32m   1522\u001b[0m     ):\n\u001b[1;32m   1523\u001b[0m         \u001b[39mraise\u001b[39;00m \u001b[39mValueError\u001b[39;00m(\n\u001b[1;32m   1524\u001b[0m             \u001b[39m\"\u001b[39m\u001b[39mIf data iterator is used as input, data like label should be \u001b[39m\u001b[39m\"\u001b[39m\n\u001b[1;32m   1525\u001b[0m             \u001b[39m\"\u001b[39m\u001b[39mspecified as batch argument.\u001b[39m\u001b[39m\"\u001b[39m\n\u001b[1;32m   1526\u001b[0m         )\n\u001b[0;32m-> 1528\u001b[0m \u001b[39mself\u001b[39;49m\u001b[39m.\u001b[39;49m_init(\n\u001b[1;32m   1529\u001b[0m     data,\n\u001b[1;32m   1530\u001b[0m     ref\u001b[39m=\u001b[39;49mref,\n\u001b[1;32m   1531\u001b[0m     label\u001b[39m=\u001b[39;49mlabel,\n\u001b[1;32m   1532\u001b[0m     weight\u001b[39m=\u001b[39;49mweight,\n\u001b[1;32m   1533\u001b[0m     base_margin\u001b[39m=\u001b[39;49mbase_margin,\n\u001b[1;32m   1534\u001b[0m     group\u001b[39m=\u001b[39;49mgroup,\n\u001b[1;32m   1535\u001b[0m     qid\u001b[39m=\u001b[39;49mqid,\n\u001b[1;32m   1536\u001b[0m     label_lower_bound\u001b[39m=\u001b[39;49mlabel_lower_bound,\n\u001b[1;32m   1537\u001b[0m     label_upper_bound\u001b[39m=\u001b[39;49mlabel_upper_bound,\n\u001b[1;32m   1538\u001b[0m     feature_weights\u001b[39m=\u001b[39;49mfeature_weights,\n\u001b[1;32m   1539\u001b[0m     feature_names\u001b[39m=\u001b[39;49mfeature_names,\n\u001b[1;32m   1540\u001b[0m     feature_types\u001b[39m=\u001b[39;49mfeature_types,\n\u001b[1;32m   1541\u001b[0m     enable_categorical\u001b[39m=\u001b[39;49menable_categorical,\n\u001b[1;32m   1542\u001b[0m )\n",
      "File \u001b[0;32m/Library/Frameworks/Python.framework/Versions/3.10/lib/python3.10/site-packages/xgboost/core.py:1587\u001b[0m, in \u001b[0;36mQuantileDMatrix._init\u001b[0;34m(self, data, ref, enable_categorical, **meta)\u001b[0m\n\u001b[1;32m   1575\u001b[0m config \u001b[39m=\u001b[39m make_jcargs(\n\u001b[1;32m   1576\u001b[0m     nthread\u001b[39m=\u001b[39m\u001b[39mself\u001b[39m\u001b[39m.\u001b[39mnthread, missing\u001b[39m=\u001b[39m\u001b[39mself\u001b[39m\u001b[39m.\u001b[39mmissing, max_bin\u001b[39m=\u001b[39m\u001b[39mself\u001b[39m\u001b[39m.\u001b[39mmax_bin\n\u001b[1;32m   1577\u001b[0m )\n\u001b[1;32m   1578\u001b[0m ret \u001b[39m=\u001b[39m _LIB\u001b[39m.\u001b[39mXGQuantileDMatrixCreateFromCallback(\n\u001b[1;32m   1579\u001b[0m     \u001b[39mNone\u001b[39;00m,\n\u001b[1;32m   1580\u001b[0m     it\u001b[39m.\u001b[39mproxy\u001b[39m.\u001b[39mhandle,\n\u001b[0;32m   (...)\u001b[0m\n\u001b[1;32m   1585\u001b[0m     ctypes\u001b[39m.\u001b[39mbyref(handle),\n\u001b[1;32m   1586\u001b[0m )\n\u001b[0;32m-> 1587\u001b[0m it\u001b[39m.\u001b[39;49mreraise()\n\u001b[1;32m   1588\u001b[0m \u001b[39m# delay check_call to throw intermediate exception first\u001b[39;00m\n\u001b[1;32m   1589\u001b[0m _check_call(ret)\n",
      "File \u001b[0;32m/Library/Frameworks/Python.framework/Versions/3.10/lib/python3.10/site-packages/xgboost/core.py:575\u001b[0m, in \u001b[0;36mDataIter.reraise\u001b[0;34m(self)\u001b[0m\n\u001b[1;32m    573\u001b[0m exc \u001b[39m=\u001b[39m \u001b[39mself\u001b[39m\u001b[39m.\u001b[39m_exception\n\u001b[1;32m    574\u001b[0m \u001b[39mself\u001b[39m\u001b[39m.\u001b[39m_exception \u001b[39m=\u001b[39m \u001b[39mNone\u001b[39;00m\n\u001b[0;32m--> 575\u001b[0m \u001b[39mraise\u001b[39;00m exc\n",
      "File \u001b[0;32m/Library/Frameworks/Python.framework/Versions/3.10/lib/python3.10/site-packages/xgboost/core.py:556\u001b[0m, in \u001b[0;36mDataIter._handle_exception\u001b[0;34m(self, fn, dft_ret)\u001b[0m\n\u001b[1;32m    553\u001b[0m     \u001b[39mreturn\u001b[39;00m dft_ret\n\u001b[1;32m    555\u001b[0m \u001b[39mtry\u001b[39;00m:\n\u001b[0;32m--> 556\u001b[0m     \u001b[39mreturn\u001b[39;00m fn()\n\u001b[1;32m    557\u001b[0m \u001b[39mexcept\u001b[39;00m \u001b[39mException\u001b[39;00m \u001b[39mas\u001b[39;00m e:  \u001b[39m# pylint: disable=broad-except\u001b[39;00m\n\u001b[1;32m    558\u001b[0m     \u001b[39m# Defer the exception in order to return 0 and stop the iteration.\u001b[39;00m\n\u001b[1;32m    559\u001b[0m     \u001b[39m# Exception inside a ctype callback function has no effect except\u001b[39;00m\n\u001b[1;32m    560\u001b[0m     \u001b[39m# for printing to stderr (doesn't stop the execution).\u001b[39;00m\n\u001b[1;32m    561\u001b[0m     tb \u001b[39m=\u001b[39m sys\u001b[39m.\u001b[39mexc_info()[\u001b[39m2\u001b[39m]\n",
      "File \u001b[0;32m/Library/Frameworks/Python.framework/Versions/3.10/lib/python3.10/site-packages/xgboost/core.py:640\u001b[0m, in \u001b[0;36mDataIter._next_wrapper.<locals>.<lambda>\u001b[0;34m()\u001b[0m\n\u001b[1;32m    637\u001b[0m     \u001b[39mself\u001b[39m\u001b[39m.\u001b[39m_data_ref \u001b[39m=\u001b[39m ref\n\u001b[1;32m    639\u001b[0m \u001b[39m# pylint: disable=not-callable\u001b[39;00m\n\u001b[0;32m--> 640\u001b[0m \u001b[39mreturn\u001b[39;00m \u001b[39mself\u001b[39m\u001b[39m.\u001b[39m_handle_exception(\u001b[39mlambda\u001b[39;00m: \u001b[39mself\u001b[39;49m\u001b[39m.\u001b[39;49mnext(input_data), \u001b[39m0\u001b[39m)\n",
      "File \u001b[0;32m/Library/Frameworks/Python.framework/Versions/3.10/lib/python3.10/site-packages/xgboost/data.py:1280\u001b[0m, in \u001b[0;36mSingleBatchInternalIter.next\u001b[0;34m(self, input_data)\u001b[0m\n\u001b[1;32m   1278\u001b[0m     \u001b[39mreturn\u001b[39;00m \u001b[39m0\u001b[39m\n\u001b[1;32m   1279\u001b[0m \u001b[39mself\u001b[39m\u001b[39m.\u001b[39mit \u001b[39m+\u001b[39m\u001b[39m=\u001b[39m \u001b[39m1\u001b[39m\n\u001b[0;32m-> 1280\u001b[0m input_data(\u001b[39m*\u001b[39;49m\u001b[39m*\u001b[39;49m\u001b[39mself\u001b[39;49m\u001b[39m.\u001b[39;49mkwargs)\n\u001b[1;32m   1281\u001b[0m \u001b[39mreturn\u001b[39;00m \u001b[39m1\u001b[39m\n",
      "File \u001b[0;32m/Library/Frameworks/Python.framework/Versions/3.10/lib/python3.10/site-packages/xgboost/core.py:729\u001b[0m, in \u001b[0;36mrequire_keyword_args.<locals>.throw_if.<locals>.inner_f\u001b[0;34m(*args, **kwargs)\u001b[0m\n\u001b[1;32m    727\u001b[0m \u001b[39mfor\u001b[39;00m k, arg \u001b[39min\u001b[39;00m \u001b[39mzip\u001b[39m(sig\u001b[39m.\u001b[39mparameters, args):\n\u001b[1;32m    728\u001b[0m     kwargs[k] \u001b[39m=\u001b[39m arg\n\u001b[0;32m--> 729\u001b[0m \u001b[39mreturn\u001b[39;00m func(\u001b[39m*\u001b[39;49m\u001b[39m*\u001b[39;49mkwargs)\n",
      "File \u001b[0;32m/Library/Frameworks/Python.framework/Versions/3.10/lib/python3.10/site-packages/xgboost/core.py:623\u001b[0m, in \u001b[0;36mDataIter._next_wrapper.<locals>.input_data\u001b[0;34m(data, feature_names, feature_types, **kwargs)\u001b[0m\n\u001b[1;32m    621\u001b[0m     new, cat_codes, feature_names, feature_types \u001b[39m=\u001b[39m \u001b[39mself\u001b[39m\u001b[39m.\u001b[39m_temporary_data\n\u001b[1;32m    622\u001b[0m \u001b[39melse\u001b[39;00m:\n\u001b[0;32m--> 623\u001b[0m     new, cat_codes, feature_names, feature_types \u001b[39m=\u001b[39m _proxy_transform(\n\u001b[1;32m    624\u001b[0m         data,\n\u001b[1;32m    625\u001b[0m         feature_names,\n\u001b[1;32m    626\u001b[0m         feature_types,\n\u001b[1;32m    627\u001b[0m         \u001b[39mself\u001b[39;49m\u001b[39m.\u001b[39;49m_enable_categorical,\n\u001b[1;32m    628\u001b[0m     )\n\u001b[1;32m    629\u001b[0m \u001b[39m# Stage the data, meta info are copied inside C++ MetaInfo.\u001b[39;00m\n\u001b[1;32m    630\u001b[0m \u001b[39mself\u001b[39m\u001b[39m.\u001b[39m_temporary_data \u001b[39m=\u001b[39m (new, cat_codes, feature_names, feature_types)\n",
      "File \u001b[0;32m/Library/Frameworks/Python.framework/Versions/3.10/lib/python3.10/site-packages/xgboost/data.py:1315\u001b[0m, in \u001b[0;36m_proxy_transform\u001b[0;34m(data, feature_names, feature_types, enable_categorical)\u001b[0m\n\u001b[1;32m   1313\u001b[0m     data \u001b[39m=\u001b[39m pd\u001b[39m.\u001b[39mDataFrame(data)\n\u001b[1;32m   1314\u001b[0m \u001b[39mif\u001b[39;00m _is_pandas_df(data):\n\u001b[0;32m-> 1315\u001b[0m     arr, feature_names, feature_types \u001b[39m=\u001b[39m _transform_pandas_df(\n\u001b[1;32m   1316\u001b[0m         data, enable_categorical, feature_names, feature_types\n\u001b[1;32m   1317\u001b[0m     )\n\u001b[1;32m   1318\u001b[0m     arr, _ \u001b[39m=\u001b[39m _ensure_np_dtype(arr, arr\u001b[39m.\u001b[39mdtype)\n\u001b[1;32m   1319\u001b[0m     \u001b[39mreturn\u001b[39;00m arr, \u001b[39mNone\u001b[39;00m, feature_names, feature_types\n",
      "File \u001b[0;32m/Library/Frameworks/Python.framework/Versions/3.10/lib/python3.10/site-packages/xgboost/data.py:490\u001b[0m, in \u001b[0;36m_transform_pandas_df\u001b[0;34m(data, enable_categorical, feature_names, feature_types, meta, meta_type)\u001b[0m\n\u001b[1;32m    483\u001b[0m \u001b[39mfor\u001b[39;00m dtype \u001b[39min\u001b[39;00m data\u001b[39m.\u001b[39mdtypes:\n\u001b[1;32m    484\u001b[0m     \u001b[39mif\u001b[39;00m \u001b[39mnot\u001b[39;00m (\n\u001b[1;32m    485\u001b[0m         (dtype\u001b[39m.\u001b[39mname \u001b[39min\u001b[39;00m _pandas_dtype_mapper)\n\u001b[1;32m    486\u001b[0m         \u001b[39mor\u001b[39;00m is_pd_sparse_dtype(dtype)\n\u001b[1;32m    487\u001b[0m         \u001b[39mor\u001b[39;00m (is_pd_cat_dtype(dtype) \u001b[39mand\u001b[39;00m enable_categorical)\n\u001b[1;32m    488\u001b[0m         \u001b[39mor\u001b[39;00m is_pa_ext_dtype(dtype)\n\u001b[1;32m    489\u001b[0m     ):\n\u001b[0;32m--> 490\u001b[0m         _invalid_dataframe_dtype(data)\n\u001b[1;32m    491\u001b[0m     \u001b[39mif\u001b[39;00m is_pa_ext_dtype(dtype):\n\u001b[1;32m    492\u001b[0m         pyarrow_extension \u001b[39m=\u001b[39m \u001b[39mTrue\u001b[39;00m\n",
      "File \u001b[0;32m/Library/Frameworks/Python.framework/Versions/3.10/lib/python3.10/site-packages/xgboost/data.py:308\u001b[0m, in \u001b[0;36m_invalid_dataframe_dtype\u001b[0;34m(data)\u001b[0m\n\u001b[1;32m    306\u001b[0m type_err \u001b[39m=\u001b[39m \u001b[39m\"\u001b[39m\u001b[39mDataFrame.dtypes for data must be int, float, bool or category.\u001b[39m\u001b[39m\"\u001b[39m\n\u001b[1;32m    307\u001b[0m msg \u001b[39m=\u001b[39m \u001b[39mf\u001b[39m\u001b[39m\"\"\"\u001b[39m\u001b[39m{\u001b[39;00mtype_err\u001b[39m}\u001b[39;00m\u001b[39m \u001b[39m\u001b[39m{\u001b[39;00m_ENABLE_CAT_ERR\u001b[39m}\u001b[39;00m\u001b[39m \u001b[39m\u001b[39m{\u001b[39;00merr\u001b[39m}\u001b[39;00m\u001b[39m\"\"\"\u001b[39m\n\u001b[0;32m--> 308\u001b[0m \u001b[39mraise\u001b[39;00m \u001b[39mValueError\u001b[39;00m(msg)\n",
      "\u001b[0;31mValueError\u001b[0m: DataFrame.dtypes for data must be int, float, bool or category. When categorical type is supplied, The experimental DMatrix parameter`enable_categorical` must be set to `True`.  Invalid columns:ELU_Code: object"
     ]
    }
   ],
   "source": [
    "# XGboost uses a special indexing, which is why we do the prediction and CSV output here directly for this method.\n",
    "\n",
    "# adjust indexing\n",
    "y_train_adjusted = y_train - 1\n",
    "y_val_adjusted = y_val - 1\n",
    "\n",
    "from xgboost import XGBClassifier\n",
    "from sklearn.metrics import accuracy_score\n",
    "\n",
    "# Initialize the XGBoost Classifier\n",
    "xgb_model = XGBClassifier(random_state=5, use_label_encoder=False, eval_metric='logloss')\n",
    "\n",
    "# Train the model using the adjusted labels\n",
    "xgb_model.fit(X_train, y_train_adjusted)\n",
    "\n",
    "# Predict on the validation set using the adjusted labels\n",
    "y_pred_xgb = xgb_model.predict(X_val)\n",
    "\n",
    "# Since predictions will also be in the adjusted label space, you need to add 1 back to align with the original labeling\n",
    "y_pred_xgb_original_labels = y_pred_xgb + 1\n",
    "\n",
    "# Evaluate the model\n",
    "accuracy_xgb = accuracy_score(y_val_adjusted, y_pred_xgb)\n",
    "print(f'XGBoost Classifier Accuracy: {accuracy_xgb}')\n",
    "\n",
    "# Prepare the test data by removing the 'Id' column\n",
    "X_test = test.drop(['Id'], axis=1) \n",
    "\n",
    "# Predict on the test data using the XGBoost model\n",
    "test_predictions_adjusted = xgb_model.predict(X_test)\n",
    "\n",
    "# Adjust the predictions back to the original label range for submission\n",
    "test_predictions = test_predictions_adjusted + 1\n",
    "\n",
    "# Create a DataFrame with 'Id' and 'Cover_Type' columns\n",
    "prediction_df = pd.DataFrame({\n",
    "    'Id': test['Id'],  \n",
    "    'Cover_Type': test_predictions\n",
    "})\n",
    "\n",
    "# Save the DataFrame to a CSV file for submission\n",
    "prediction_filename = 'XGBoost_predictions.csv'\n",
    "prediction_df.to_csv(prediction_filename, index=False)"
   ]
  },
  {
   "cell_type": "markdown",
   "id": "b18cf116",
   "metadata": {},
   "source": [
    "SVM Classifier"
   ]
  },
  {
   "cell_type": "code",
   "execution_count": null,
   "id": "f9ade75f",
   "metadata": {},
   "outputs": [
    {
     "name": "stdout",
     "output_type": "stream",
     "text": [
      "Support Vector Machine Classifier Accuracy: 0.6144179894179894\n"
     ]
    }
   ],
   "source": [
    "from sklearn.svm import SVC\n",
    "from sklearn.metrics import accuracy_score\n",
    "\n",
    "# Initialize the SVM Classifier\n",
    "svm_model = SVC(kernel='rbf', C=1.0, gamma='scale')\n",
    "\n",
    "# Train the model\n",
    "svm_model.fit(X_train, y_train)\n",
    "\n",
    "# Predict on the validation set\n",
    "y_pred_svm = svm_model.predict(X_val)\n",
    "\n",
    "# Evaluate the model\n",
    "accuracy_svm = accuracy_score(y_val, y_pred_svm)\n",
    "print(f'Support Vector Machine Classifier Accuracy: {accuracy_svm}')\n"
   ]
  },
  {
   "cell_type": "markdown",
   "id": "4330836e",
   "metadata": {},
   "source": [
    "CastBoost"
   ]
  },
  {
   "cell_type": "code",
   "execution_count": null,
   "id": "ee566267",
   "metadata": {},
   "outputs": [
    {
     "name": "stdout",
     "output_type": "stream",
     "text": [
      "Unexpected exception formatting exception. Falling back to standard exception\n"
     ]
    },
    {
     "name": "stderr",
     "output_type": "stream",
     "text": [
      "Traceback (most recent call last):\n",
      "  File \"/Users/elisebarattini/Library/Python/3.10/lib/python/site-packages/IPython/core/interactiveshell.py\", line 3526, in run_code\n",
      "    exec(code_obj, self.user_global_ns, self.user_ns)\n",
      "  File \"/var/folders/v1/r1j96n7d1w57mz0vtk4q7msr0000gn/T/ipykernel_15149/3257954996.py\", line 9, in <module>\n",
      "    catboost_model.fit(X_train, y_train)\n",
      "  File \"/Library/Frameworks/Python.framework/Versions/3.10/lib/python3.10/site-packages/catboost/core.py\", line 5128, in fit\n",
      "    self._fit(X, y, cat_features, text_features, embedding_features, None, sample_weight, None, None, None, None, baseline, use_best_model,\n",
      "  File \"/Library/Frameworks/Python.framework/Versions/3.10/lib/python3.10/site-packages/catboost/core.py\", line 2339, in _fit\n",
      "    train_params = self._prepare_train_params(\n",
      "  File \"/Library/Frameworks/Python.framework/Versions/3.10/lib/python3.10/site-packages/catboost/core.py\", line 2220, in _prepare_train_params\n",
      "    train_pool = _build_train_pool(X, y, cat_features, text_features, embedding_features, pairs,\n",
      "  File \"/Library/Frameworks/Python.framework/Versions/3.10/lib/python3.10/site-packages/catboost/core.py\", line 1438, in _build_train_pool\n",
      "    train_pool = Pool(X, y, cat_features=cat_features, text_features=text_features, embedding_features=embedding_features, pairs=pairs, weight=sample_weight, group_id=group_id,\n",
      "  File \"/Library/Frameworks/Python.framework/Versions/3.10/lib/python3.10/site-packages/catboost/core.py\", line 792, in __init__\n",
      "    self._init(data, label, cat_features, text_features, embedding_features, embedding_features_data, pairs, weight,\n",
      "  File \"/Library/Frameworks/Python.framework/Versions/3.10/lib/python3.10/site-packages/catboost/core.py\", line 1419, in _init\n",
      "    self._init_pool(data, label, cat_features, text_features, embedding_features, embedding_features_data, pairs, weight,\n",
      "  File \"_catboost.pyx\", line 3953, in _catboost._PoolBase._init_pool\n",
      "  File \"_catboost.pyx\", line 4003, in _catboost._PoolBase._init_pool\n",
      "  File \"_catboost.pyx\", line 3819, in _catboost._PoolBase._init_features_order_layout_pool\n",
      "  File \"_catboost.pyx\", line 2729, in _catboost._set_features_order_data_pd_data_frame\n",
      "  File \"/Library/Frameworks/Python.framework/Versions/3.10/lib/python3.10/site-packages/pandas/core/generic.py\", line 6204, in __getattr__\n",
      "    return object.__getattribute__(self, name)\n",
      "AttributeError: 'DataFrame' object has no attribute 'iteritems'\n",
      "\n",
      "During handling of the above exception, another exception occurred:\n",
      "\n",
      "Traceback (most recent call last):\n",
      "  File \"/Users/elisebarattini/Library/Python/3.10/lib/python/site-packages/IPython/core/interactiveshell.py\", line 2120, in showtraceback\n",
      "    stb = self.InteractiveTB.structured_traceback(\n",
      "  File \"/Users/elisebarattini/Library/Python/3.10/lib/python/site-packages/IPython/core/ultratb.py\", line 1435, in structured_traceback\n",
      "    return FormattedTB.structured_traceback(\n",
      "  File \"/Users/elisebarattini/Library/Python/3.10/lib/python/site-packages/IPython/core/ultratb.py\", line 1326, in structured_traceback\n",
      "    return VerboseTB.structured_traceback(\n",
      "  File \"/Users/elisebarattini/Library/Python/3.10/lib/python/site-packages/IPython/core/ultratb.py\", line 1173, in structured_traceback\n",
      "    formatted_exception = self.format_exception_as_a_whole(etype, evalue, etb, number_of_lines_of_context,\n",
      "  File \"/Users/elisebarattini/Library/Python/3.10/lib/python/site-packages/IPython/core/ultratb.py\", line 1063, in format_exception_as_a_whole\n",
      "    self.get_records(etb, number_of_lines_of_context, tb_offset) if etb else []\n",
      "  File \"/Users/elisebarattini/Library/Python/3.10/lib/python/site-packages/IPython/core/ultratb.py\", line 1155, in get_records\n",
      "    FrameInfo(\n",
      "  File \"/Users/elisebarattini/Library/Python/3.10/lib/python/site-packages/IPython/core/ultratb.py\", line 780, in __init__\n",
      "    ix = inspect.getsourcelines(frame)\n",
      "  File \"/Library/Frameworks/Python.framework/Versions/3.10/lib/python3.10/inspect.py\", line 1129, in getsourcelines\n",
      "    lines, lnum = findsource(object)\n",
      "  File \"/Library/Frameworks/Python.framework/Versions/3.10/lib/python3.10/inspect.py\", line 950, in findsource\n",
      "    raise OSError('source code not available')\n",
      "OSError: source code not available\n"
     ]
    }
   ],
   "source": [
    "from catboost import CatBoostClassifier\n",
    "from sklearn.metrics import accuracy_score\n",
    "\n",
    "\n",
    "# Initialize the CatBoost Classifier \n",
    "catboost_model = CatBoostClassifier(iterations=1000, learning_rate=0.1, depth=3, verbose=0)\n",
    "\n",
    "# Train the model\n",
    "catboost_model.fit(X_train, y_train)\n",
    "\n",
    "# Predict on the validation set\n",
    "y_pred_catboost = catboost_model.predict(X_val)\n",
    "\n",
    "#Evaluate the model\n",
    "accuracy_catboost = accuracy_score(y_val, y_pred_catboost)\n",
    "print(f'CatBoost Classifier Accuracy: {accuracy_catboost}')\n"
   ]
  },
  {
   "cell_type": "markdown",
   "id": "a8558b70",
   "metadata": {},
   "source": [
    "ExtraTreesClassifier"
   ]
  },
  {
   "cell_type": "code",
   "execution_count": 68,
   "id": "be0d93a1",
   "metadata": {},
   "outputs": [
    {
     "name": "stdout",
     "output_type": "stream",
     "text": [
      "ExtraTrees Classifier Accuracy: 0.8938492063492064\n"
     ]
    }
   ],
   "source": [
    "from sklearn.ensemble import ExtraTreesClassifier\n",
    "from sklearn.metrics import accuracy_score\n",
    "\n",
    "\n",
    "# Initialize the ExtraTrees Classifier\n",
    "extratrees_model = ExtraTreesClassifier(n_estimators=100, random_state=0)\n",
    "\n",
    "# Train the model\n",
    "extratrees_model.fit(X_train, y_train)\n",
    "\n",
    "# Predict on the validation set\n",
    "y_pred_extratrees = extratrees_model.predict(X_val)\n",
    "\n",
    "# Evaluate the model\n",
    "accuracy_extratrees = accuracy_score(y_val, y_pred_extratrees)\n",
    "print(f'ExtraTrees Classifier Accuracy: {accuracy_extratrees}')\n"
   ]
  },
  {
   "cell_type": "markdown",
   "id": "472cb83f",
   "metadata": {},
   "source": [
    " DecisionTreeClassifier"
   ]
  },
  {
   "cell_type": "code",
   "execution_count": 30,
   "id": "65cd07b1",
   "metadata": {},
   "outputs": [
    {
     "name": "stdout",
     "output_type": "stream",
     "text": [
      "Decision Tree Classifier Accuracy: 0.6233465608465608\n"
     ]
    }
   ],
   "source": [
    "from sklearn.tree import DecisionTreeClassifier\n",
    "from sklearn.metrics import accuracy_score\n",
    "\n",
    "# Initialize the Decision Tree Classifier\n",
    "decisiontree_model = DecisionTreeClassifier(max_depth=3, random_state=0)\n",
    "\n",
    "# Train the model\n",
    "decisiontree_model.fit(X_train, y_train)\n",
    "\n",
    "# Predict on the validation set\n",
    "y_pred_decisiontree = decisiontree_model.predict(X_val)\n",
    "\n",
    "# Evaluate the model\n",
    "accuracy_decisiontree = accuracy_score(y_val, y_pred_decisiontree)\n",
    "print(f'Decision Tree Classifier Accuracy: {accuracy_decisiontree}')\n"
   ]
  },
  {
   "cell_type": "markdown",
   "id": "3d4a5148",
   "metadata": {},
   "source": [
    "### Create the CSV file"
   ]
  },
  {
   "cell_type": "markdown",
   "id": "ec16d7fd",
   "metadata": {},
   "source": [
    "Your submission should be a CSV file with 581012 rows and a header. "
   ]
  },
  {
   "cell_type": "code",
   "execution_count": 69,
   "id": "db366e34",
   "metadata": {
    "scrolled": true
   },
   "outputs": [],
   "source": [
    "# Prepare the test data by removing the 'Id' column\n",
    "X_test = test.drop(['Id'], axis=1)\n",
    "\n",
    "# Predict on the test data\n",
    "# !! change the model name according to what you are using\n",
    "test_predictions = extratrees_model.predict(X_test)\n",
    "\n",
    "test_predictions_1d = test_predictions.flatten()\n",
    "\n",
    "# Create a DataFrame with 'Id' and 'Cover_Type' columns\n",
    "prediction_df = pd.DataFrame({\n",
    "    'Id': test['Id'],\n",
    "    'Cover_Type': test_predictions_1d\n",
    "})\n",
    "\n",
    "# Save the DataFrame to a CSV file\n",
    "prediction_filename = 'predictions.csv'\n",
    "prediction_df.to_csv(prediction_filename, index=False)"
   ]
  },
  {
   "cell_type": "code",
   "execution_count": null,
   "id": "c8b215bd",
   "metadata": {},
   "outputs": [
    {
     "data": {
      "text/plain": [
       "(581012, 2)"
      ]
     },
     "execution_count": 35,
     "metadata": {},
     "output_type": "execute_result"
    }
   ],
   "source": [
    "# run this for debugging: it should output (581012, 2). Otherwise the format is wrong.\n",
    "prediction_df.shape\n"
   ]
  },
  {
   "cell_type": "markdown",
   "id": "52c645b1",
   "metadata": {},
   "source": [
    "## Scorekeeping"
   ]
  },
  {
   "cell_type": "markdown",
   "id": "55a731a4",
   "metadata": {},
   "source": [
    "To keep track of our Kaggle scores, every time you submit a new csv to kaggle, add the score + a short description of what we changed/added\n",
    "\n",
    "Use Format: Score obtained on kaggle / Feature Engineering Steps Used / Model Used\n",
    "!! keep in order of biggest to smallest scores\n",
    "\n",
    "**Random Forest**\n",
    "- 0.75 / Euclidian Dist + Keeping union of top 10 most meaningful values / Random Forest\n",
    "- 0.74 / Euclidian Dist + Keeping intersection of top 20 most meaningful values / Random Forest\n",
    "- 0.73 / Euclidian Dist + Keeping union of top 5 most meaningful values / Random Forest\n",
    "- 0.68 / Euclidian Dist, Low Corr(0.05), Merge Soil Types / Random Forest\n",
    "- 0.50 / Interaction Fct, Aggregate Fct, Euclidian Dist, Low Corr(0.05), Merge Soil Types / Random Forest\n",
    "\n",
    "\n",
    "**Gradient Boosting Classifier**\n",
    "- 0.65 / Euclidian Dist, Low Corr(0.02) / GBC\n",
    "- 0.56 / Euclidian Dist, Low Corr(0.05), Merge Soil Types / GBC\n",
    "- 0.55 / Euclidian Dist, Low Corr(0.05) / GBC\n",
    "\n",
    "**KNN**\n",
    "- 0.65 / Euclidian Dist + Keeping intersection of top 20 most meaningful values / KNN w 2 neighors\n",
    "\n",
    "-**XGBoost**\n",
    "- 0.74 / Euclidian Dist\n",
    "- 0.73 / no Feature Eng\n",
    "\n"
   ]
  },
  {
   "cell_type": "markdown",
   "id": "9038b11c",
   "metadata": {},
   "source": [
    "# 3. Hyperparameter Tuning"
   ]
  },
  {
   "cell_type": "code",
   "execution_count": null,
   "id": "e8e04671",
   "metadata": {},
   "outputs": [],
   "source": [
    "# ++ to do for the best 2-3 models\n",
    "\n",
    "# Extra Trees Classifier\n",
    "from sklearn.model_selection import RandomizedSearchCV\n",
    "from sklearn.ensemble import ExtraTreesClassifier\n",
    "\n",
    "# Define the hyperparameter grid to search\n",
    "hyperparameter_grid = {\n",
    "    'n_estimators': [50, 100, 300, 500, 1000],\n",
    "    'min_samples_split': [2, 3, 5, 7, 9],\n",
    "    'min_samples_leaf': [1, 2, 4, 6, 8],\n",
    "    'max_features': ['auto', 'sqrt', 'log2', None]\n",
    "}\n",
    "\n",
    "# Initialize the model\n",
    "extra_trees_model = ExtraTreesClassifier(random_state=42)\n",
    "\n",
    "# Initialize RandomizedSearchCV\n",
    "random_cv_extra_trees = RandomizedSearchCV(\n",
    "    estimator=extra_trees_model,\n",
    "    param_distributions=hyperparameter_grid,\n",
    "    cv=5, n_iter=20,\n",
    "    scoring='accuracy',\n",
    "    n_jobs=-1, verbose=1,\n",
    "    return_train_score=True,\n",
    "    random_state=42\n",
    ")\n",
    "\n",
    "# Fit RandomizedSearchCV to the training data\n",
    "# Make sure to replace `X` and `y` with your actual training data\n",
    "random_cv_extra_trees.fit(X, y)\n",
    "\n",
    "# Best hyperparameter configuration\n",
    "print(\"Best Extra Trees configuration:\", random_cv_extra_trees.best_params_)\n",
    "\n",
    "# Best accuracy score\n",
    "print(\"Best Extra Trees accuracy score:\", random_cv_extra_trees.best_score_)\n",
    "\n",
    "\n",
    "# Random Forest Classifier\n",
    "\n",
    "from sklearn.ensemble import RandomForestClassifier\n",
    "\n",
    "# Define the hyperparameter grid for RandomForest\n",
    "hyperparameter_grid_rf = {\n",
    "    'n_estimators': [100, 200, 500],\n",
    "    'max_depth': [None, 10, 20, 30],\n",
    "    'min_samples_split': [2, 5, 10],\n",
    "    'min_samples_leaf': [1, 2, 4],\n",
    "    'bootstrap': [True, False]\n",
    "}\n",
    "\n",
    "# Initialize the model\n",
    "random_forest_model = RandomForestClassifier(random_state=42)\n",
    "\n",
    "# Initialize RandomizedSearchCV for Random Forest\n",
    "random_cv_rf = RandomizedSearchCV(\n",
    "    estimator=random_forest_model,\n",
    "    param_distributions=hyperparameter_grid_rf,\n",
    "    cv=5, n_iter=20,\n",
    "    scoring='accuracy',\n",
    "    n_jobs=-1, verbose=1,\n",
    "    return_train_score=True,\n",
    "    random_state=42\n",
    ")\n",
    "\n",
    "# Fit RandomizedSearchCV to the training data\n",
    "random_cv_rf.fit(X, y)\n",
    "\n",
    "# Best hyperparameter configuration for Random Forest\n",
    "print(\"Best Random Forest configuration:\", random_cv_rf.best_params_)\n",
    "\n",
    "# Best accuracy score for Random Forest\n",
    "print(\"Best Random Forest accuracy score:\", random_cv_rf.best_score_)\n"
   ]
  },
  {
   "cell_type": "markdown",
   "id": "ed28add4",
   "metadata": {},
   "source": [
    "# 4. Archives"
   ]
  },
  {
   "cell_type": "markdown",
   "id": "bba66451",
   "metadata": {},
   "source": [
    "Drag code here that might be useful later but that currently does not work/ cannot be used"
   ]
  },
  {
   "cell_type": "markdown",
   "id": "2fcfa22b",
   "metadata": {},
   "source": [
    "**Outliers**"
   ]
  },
  {
   "cell_type": "code",
   "execution_count": null,
   "id": "95711ad9",
   "metadata": {},
   "outputs": [],
   "source": [
    "\n",
    "def detect_outliers(df, n, features):\n",
    "   \n",
    "    outlier_indices = []\n",
    "\n",
    "    for col in features:\n",
    "       \n",
    "        Q1 = df[col].quantile(0.25)\n",
    "        \n",
    "        Q3 = df[col].quantile(0.75)\n",
    "        \n",
    "        IQR = Q3 - Q1\n",
    "\n",
    "        outlier_step = 1.5 * IQR\n",
    "        outlier_list_col = df[(df[col] < Q1 - outlier_step) | (df[col] > Q3 + outlier_step)].index\n",
    "        outlier_indices.extend(outlier_list_col)\n",
    "\n",
    "    outlier_indices = pd.Series(outlier_indices).value_counts()\n",
    "    multiple_outliers = outlier_indices[outlier_indices > n].index\n",
    "\n",
    "    return multiple_outliers\n",
    "\n",
    "\n",
    "numeric_features = [\n",
    "    'Elevation', \n",
    "    'Aspect', \n",
    "    'Slope', \n",
    "    'Horizontal_Distance_To_Hydrology', \n",
    "    'Vertical_Distance_To_Hydrology',\n",
    "    'Horizontal_Distance_To_Roadways',\n",
    "    'Hillshade_9am', \n",
    "    'Hillshade_Noon', \n",
    "    'Hillshade_3pm',\n",
    "    'Horizontal_Distance_To_Fire_Points'\n",
    "]\n",
    "\n",
    "outliers_to_remove = detect_outliers(train_data, 2, numeric_features)"
   ]
  },
  {
   "cell_type": "code",
   "execution_count": null,
   "id": "22b69372",
   "metadata": {},
   "outputs": [],
   "source": [
    "## gives very bad accuracy scores (around 0.3) for all the algos, so sth is wrong\n",
    "\n",
    "# test model\n",
    "\n",
    "\n",
    "from ast import literal_eval\n",
    "from catboost import CatBoostClassifier\n",
    "#from lightgbm import LGBMClassifier\n",
    "import pandas as pd\n",
    "from sklearn.linear_model import LogisticRegression\n",
    "from sklearn.ensemble import ExtraTreesClassifier, RandomForestClassifier\n",
    "from sklearn.neighbors import KNeighborsClassifier\n",
    "from sklearn.tree import DecisionTreeClassifier\n",
    "from sklearn.svm import SVC\n",
    "from xgboost import XGBClassifier\n",
    "from sklearn.model_selection import cross_val_score\n",
    "\n",
    "\n",
    "\n",
    "def evaluate_models(X, y):\n",
    "    models = {\n",
    "        \"LogReg\": LogisticRegression(),\n",
    "        \"KNN\": KNeighborsClassifier(),\n",
    "        \"SVM\": SVC(),\n",
    "        \"DT\": DecisionTreeClassifier(),\n",
    "        \"RF\": RandomForestClassifier(),\n",
    "        \"ExtraTrees\": ExtraTreesClassifier(),\n",
    "        \"XGB\": XGBClassifier(),\n",
    "        \"Catboost\": CatBoostClassifier(verbose=0),\n",
    "        #\"LightGBM\": LGBMClassifier(),\n",
    "    }\n",
    "    \n",
    "    results = {}\n",
    "    \n",
    "    for name, model in models.items():\n",
    "        scores = cross_val_score(model, X, y, cv=5, scoring='accuracy') \n",
    "        results[name] = scores\n",
    "        print(f\"{name}: Accuracy = {scores.mean():.4f} (+/- {scores.std() * 2:.4f})\")\n",
    "    \n",
    "    return results"
   ]
  },
  {
   "cell_type": "markdown",
   "id": "2787ae66",
   "metadata": {},
   "source": [
    "### Merging Soil Types"
   ]
  },
  {
   "cell_type": "markdown",
   "id": "901c5c5e",
   "metadata": {},
   "source": [
    "not sure it makes sense to keep this one"
   ]
  },
  {
   "cell_type": "code",
   "execution_count": null,
   "id": "4246eea1",
   "metadata": {},
   "outputs": [],
   "source": [
    "# Extract soil type columns\n",
    "soil_columns = [col for col in train.columns if col.startswith('Soil_Type')]\n",
    "\n",
    "# Combine the soil type columns into a single feature by identifying the active soil type\n",
    "# train\n",
    "train['Soil_Type_Combined'] = train[soil_columns].idxmax(axis=1).str.extract('(\\d+)').astype(int)\n",
    "train = train.drop(soil_columns, axis=1)\n",
    "\n",
    "# test\n",
    "test['Soil_Type_Combined'] = test[soil_columns].idxmax(axis=1).str.extract('(\\d+)').astype(int)\n",
    "test = test.drop(soil_columns, axis=1)\n"
   ]
  },
  {
   "cell_type": "markdown",
   "id": "6a56f778",
   "metadata": {},
   "source": [
    "### Aggregate Features"
   ]
  },
  {
   "cell_type": "code",
   "execution_count": null,
   "id": "ecb03b92",
   "metadata": {},
   "outputs": [],
   "source": [
    "def create_aggregate_features(df):\n",
    "    \"\"\"\n",
    "    Create aggregate features that summarize information across multiple features.\n",
    "\n",
    "    Args:\n",
    "        df (pd.DataFrame): DataFrame to enhance with aggregate features.\n",
    "\n",
    "    Returns:\n",
    "        pd.DataFrame: DataFrame with new aggregate features.\n",
    "    \"\"\"\n",
    "    # Example aggregate feature: Mean Hillshade\n",
    "    df['Mean_Hillshade'] = df[['Hillshade_9am', 'Hillshade_Noon', 'Hillshade_3pm']].mean(axis=1)\n",
    "\n",
    "    # More aggregates can be added based on exploratory data analysis and domain knowledge\n",
    "\n",
    "\n",
    "    return df\n"
   ]
  },
  {
   "cell_type": "markdown",
   "id": "6786a4d2",
   "metadata": {},
   "source": [
    "### Interaction Features"
   ]
  },
  {
   "cell_type": "code",
   "execution_count": null,
   "id": "3cff3c1e",
   "metadata": {},
   "outputs": [],
   "source": [
    "def create_interaction_features(df):\n",
    "    \"\"\"\n",
    "    Create interaction features by combining existing features.\n",
    "\n",
    "    Args:\n",
    "        df (pd.DataFrame): DataFrame to enhance with interaction features.\n",
    "\n",
    "    Returns:\n",
    "        pd.DataFrame: DataFrame with new interaction features.\n",
    "    \"\"\"\n",
    "    # Example interaction: Elevation and Hydrology features\n",
    "    df['Elevation_plus_Vertical_Hydrology'] = df['Elevation'] + df['Vertical_Distance_To_Hydrology']\n",
    "    df['Elevation_times_Horizontal_Hydrology'] = df['Elevation'] * df['Horizontal_Distance_To_Hydrology']\n",
    "\n",
    "    # You can add more interactions based on domain knowledge and exploratory data analysis insights\n",
    "\n",
    "    return df\n"
   ]
  },
  {
   "cell_type": "markdown",
   "id": "a92becc8",
   "metadata": {},
   "source": [
    "### Polynomial Features"
   ]
  },
  {
   "cell_type": "code",
   "execution_count": null,
   "id": "37005cf1",
   "metadata": {},
   "outputs": [],
   "source": [
    "# this fct does not seem to work when applied to train_data -> look into this\n",
    "from sklearn.preprocessing import PolynomialFeatures\n",
    "\n",
    "def add_polynomial_features(df, feature_cols, degree=2):\n",
    "    \"\"\"\n",
    "    Adds polynomial features to the DataFrame.\n",
    "\n",
    "    Args:\n",
    "        df (pd.DataFrame): DataFrame to enhance with polynomial features.\n",
    "        feature_cols (list): List of column names to which polynomial features will be applied.\n",
    "        degree (int): The degree of the polynomial features.\n",
    "\n",
    "    Returns:\n",
    "        pd.DataFrame: DataFrame with polynomial features added.\n",
    "    \"\"\"\n",
    "    poly = PolynomialFeatures(degree=degree, include_bias=False)\n",
    "    poly_features = poly.fit_transform(df[feature_cols])\n",
    "    poly_feature_names = poly.get_feature_names(feature_cols)\n",
    "    df_poly = pd.DataFrame(poly_features, columns=poly_feature_names, index=df.index)\n",
    "    \n",
    "    # Drop the original features to avoid multicollinearity\n",
    "    df.drop(feature_cols, axis=1, inplace=True)\n",
    "    \n",
    "    # Concatenate the original DataFrame with the new polynomial features\n",
    "    df = pd.concat([df, df_poly], axis=1)\n",
    "    \n",
    "    return df\n"
   ]
  }
 ],
 "metadata": {
  "kernelspec": {
   "display_name": "Python 3 (ipykernel)",
   "language": "python",
   "name": "python3"
  },
  "language_info": {
   "codemirror_mode": {
    "name": "ipython",
    "version": 3
   },
   "file_extension": ".py",
   "mimetype": "text/x-python",
   "name": "python",
   "nbconvert_exporter": "python",
   "pygments_lexer": "ipython3",
   "version": "3.10.6"
  }
 },
 "nbformat": 4,
 "nbformat_minor": 5
}
